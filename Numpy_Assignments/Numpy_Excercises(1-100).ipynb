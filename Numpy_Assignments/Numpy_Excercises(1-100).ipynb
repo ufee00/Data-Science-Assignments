{
 "cells": [
  {
   "cell_type": "markdown",
   "metadata": {},
   "source": [
    "# Question 1\n",
    "### Import the numpy package under the name np\n"
   ]
  },
  {
   "cell_type": "code",
   "execution_count": 1,
   "metadata": {},
   "outputs": [],
   "source": [
    "# Import the numpy package under the name np\n",
    "import numpy as np"
   ]
  },
  {
   "cell_type": "markdown",
   "metadata": {},
   "source": [
    "# Question 2\n",
    "### Print the numpy version and the configuration"
   ]
  },
  {
   "cell_type": "code",
   "execution_count": 2,
   "metadata": {},
   "outputs": [
    {
     "name": "stdout",
     "output_type": "stream",
     "text": [
      "NumPy Version: 1.25.2\n",
      "\n",
      "NumPy Configuration:\n",
      "openblas64__info:\n",
      "    libraries = ['openblas64_', 'openblas64_']\n",
      "    library_dirs = ['openblas\\\\lib']\n",
      "    language = c\n",
      "    define_macros = [('HAVE_CBLAS', None), ('BLAS_SYMBOL_SUFFIX', '64_'), ('HAVE_BLAS_ILP64', None)]\n",
      "    runtime_library_dirs = ['openblas\\\\lib']\n",
      "blas_ilp64_opt_info:\n",
      "    libraries = ['openblas64_', 'openblas64_']\n",
      "    library_dirs = ['openblas\\\\lib']\n",
      "    language = c\n",
      "    define_macros = [('HAVE_CBLAS', None), ('BLAS_SYMBOL_SUFFIX', '64_'), ('HAVE_BLAS_ILP64', None)]\n",
      "    runtime_library_dirs = ['openblas\\\\lib']\n",
      "openblas64__lapack_info:\n",
      "    libraries = ['openblas64_', 'openblas64_']\n",
      "    library_dirs = ['openblas\\\\lib']\n",
      "    language = c\n",
      "    define_macros = [('HAVE_CBLAS', None), ('BLAS_SYMBOL_SUFFIX', '64_'), ('HAVE_BLAS_ILP64', None), ('HAVE_LAPACKE', None)]\n",
      "    runtime_library_dirs = ['openblas\\\\lib']\n",
      "lapack_ilp64_opt_info:\n",
      "    libraries = ['openblas64_', 'openblas64_']\n",
      "    library_dirs = ['openblas\\\\lib']\n",
      "    language = c\n",
      "    define_macros = [('HAVE_CBLAS', None), ('BLAS_SYMBOL_SUFFIX', '64_'), ('HAVE_BLAS_ILP64', None), ('HAVE_LAPACKE', None)]\n",
      "    runtime_library_dirs = ['openblas\\\\lib']\n",
      "Supported SIMD extensions in this NumPy install:\n",
      "    baseline = SSE,SSE2,SSE3\n",
      "    found = SSSE3,SSE41\n",
      "    not found = POPCNT,SSE42,AVX,F16C,FMA3,AVX2,AVX512F,AVX512CD,AVX512_SKX,AVX512_CLX,AVX512_CNL,AVX512_ICL\n",
      "None\n"
     ]
    }
   ],
   "source": [
    "#Printing the numpy version\n",
    "print(\"NumPy Version:\", np.__version__)\n",
    "\n",
    "# Printing NumPy configuration\n",
    "print(\"\\nNumPy Configuration:\")\n",
    "print(np.show_config())"
   ]
  },
  {
   "cell_type": "markdown",
   "metadata": {},
   "source": [
    "# Question 3\n",
    "### Create a null vector of size 10"
   ]
  },
  {
   "cell_type": "code",
   "execution_count": 3,
   "metadata": {},
   "outputs": [
    {
     "name": "stdout",
     "output_type": "stream",
     "text": [
      "[0. 0. 0. 0. 0. 0. 0. 0. 0. 0.]\n"
     ]
    }
   ],
   "source": [
    "# Creating a null vector of size 10\n",
    "null_vector = np.zeros(10)\n",
    "\n",
    "print(null_vector)"
   ]
  },
  {
   "cell_type": "markdown",
   "metadata": {},
   "source": [
    "# Question 4\n",
    " ### How to find the memory size of any array\n"
   ]
  },
  {
   "cell_type": "code",
   "execution_count": 4,
   "metadata": {},
   "outputs": [
    {
     "name": "stdout",
     "output_type": "stream",
     "text": [
      "Memory size of the array: 80 bytes\n"
     ]
    }
   ],
   "source": [
    "memory_size_bytes = null_vector.nbytes\n",
    "\n",
    "print(f\"Memory size of the array: {memory_size_bytes} bytes\")"
   ]
  },
  {
   "cell_type": "markdown",
   "metadata": {},
   "source": [
    "# Question 5\n",
    "* How to get the documentation of the numpy add function from the command line?"
   ]
  },
  {
   "cell_type": "code",
   "execution_count": 5,
   "metadata": {},
   "outputs": [
    {
     "name": "stdout",
     "output_type": "stream",
     "text": [
      "\u001b[1;31mCall signature:\u001b[0m  \u001b[0mnp\u001b[0m\u001b[1;33m.\u001b[0m\u001b[0madd\u001b[0m\u001b[1;33m(\u001b[0m\u001b[1;33m*\u001b[0m\u001b[0margs\u001b[0m\u001b[1;33m,\u001b[0m \u001b[1;33m**\u001b[0m\u001b[0mkwargs\u001b[0m\u001b[1;33m)\u001b[0m\u001b[1;33m\u001b[0m\u001b[1;33m\u001b[0m\u001b[0m\n",
      "\u001b[1;31mType:\u001b[0m            ufunc\n",
      "\u001b[1;31mString form:\u001b[0m     <ufunc 'add'>\n",
      "\u001b[1;31mFile:\u001b[0m            c:\\users\\ibrahim umar faruk\\appdata\\local\\programs\\python\\python310\\lib\\site-packages\\numpy\\__init__.py\n",
      "\u001b[1;31mDocstring:\u001b[0m      \n",
      "add(x1, x2, /, out=None, *, where=True, casting='same_kind', order='K', dtype=None, subok=True[, signature, extobj])\n",
      "\n",
      "Add arguments element-wise.\n",
      "\n",
      "Parameters\n",
      "----------\n",
      "x1, x2 : array_like\n",
      "    The arrays to be added.\n",
      "    If ``x1.shape != x2.shape``, they must be broadcastable to a common\n",
      "    shape (which becomes the shape of the output).\n",
      "out : ndarray, None, or tuple of ndarray and None, optional\n",
      "    A location into which the result is stored. If provided, it must have\n",
      "    a shape that the inputs broadcast to. If not provided or None,\n",
      "    a freshly-allocated array is returned. A tuple (possible only as a\n",
      "    keyword argument) must have length equal to the number of outputs.\n",
      "where : array_like, optional\n",
      "    This condition is broadcast over the input. At locations where the\n",
      "    condition is True, the `out` array will be set to the ufunc result.\n",
      "    Elsewhere, the `out` array will retain its original value.\n",
      "    Note that if an uninitialized `out` array is created via the default\n",
      "    ``out=None``, locations within it where the condition is False will\n",
      "    remain uninitialized.\n",
      "**kwargs\n",
      "    For other keyword-only arguments, see the\n",
      "    :ref:`ufunc docs <ufuncs.kwargs>`.\n",
      "\n",
      "Returns\n",
      "-------\n",
      "add : ndarray or scalar\n",
      "    The sum of `x1` and `x2`, element-wise.\n",
      "    This is a scalar if both `x1` and `x2` are scalars.\n",
      "\n",
      "Notes\n",
      "-----\n",
      "Equivalent to `x1` + `x2` in terms of array broadcasting.\n",
      "\n",
      "Examples\n",
      "--------\n",
      ">>> np.add(1.0, 4.0)\n",
      "5.0\n",
      ">>> x1 = np.arange(9.0).reshape((3, 3))\n",
      ">>> x2 = np.arange(3.0)\n",
      ">>> np.add(x1, x2)\n",
      "array([[  0.,   2.,   4.],\n",
      "       [  3.,   5.,   7.],\n",
      "       [  6.,   8.,  10.]])\n",
      "\n",
      "The ``+`` operator can be used as a shorthand for ``np.add`` on ndarrays.\n",
      "\n",
      ">>> x1 = np.arange(9.0).reshape((3, 3))\n",
      ">>> x2 = np.arange(3.0)\n",
      ">>> x1 + x2\n",
      "array([[ 0.,  2.,  4.],\n",
      "       [ 3.,  5.,  7.],\n",
      "       [ 6.,  8., 10.]])\n",
      "\u001b[1;31mClass docstring:\u001b[0m\n",
      "Functions that operate element by element on whole arrays.\n",
      "\n",
      "To see the documentation for a specific ufunc, use `info`.  For\n",
      "example, ``np.info(np.sin)``.  Because ufuncs are written in C\n",
      "(for speed) and linked into Python with NumPy's ufunc facility,\n",
      "Python's help() function finds this page whenever help() is called\n",
      "on a ufunc.\n",
      "\n",
      "A detailed explanation of ufuncs can be found in the docs for :ref:`ufuncs`.\n",
      "\n",
      "**Calling ufuncs:** ``op(*x[, out], where=True, **kwargs)``\n",
      "\n",
      "Apply `op` to the arguments `*x` elementwise, broadcasting the arguments.\n",
      "\n",
      "The broadcasting rules are:\n",
      "\n",
      "* Dimensions of length 1 may be prepended to either array.\n",
      "* Arrays may be repeated along dimensions of length 1.\n",
      "\n",
      "Parameters\n",
      "----------\n",
      "*x : array_like\n",
      "    Input arrays.\n",
      "out : ndarray, None, or tuple of ndarray and None, optional\n",
      "    Alternate array object(s) in which to put the result; if provided, it\n",
      "    must have a shape that the inputs broadcast to. A tuple of arrays\n",
      "    (possible only as a keyword argument) must have length equal to the\n",
      "    number of outputs; use None for uninitialized outputs to be\n",
      "    allocated by the ufunc.\n",
      "where : array_like, optional\n",
      "    This condition is broadcast over the input. At locations where the\n",
      "    condition is True, the `out` array will be set to the ufunc result.\n",
      "    Elsewhere, the `out` array will retain its original value.\n",
      "    Note that if an uninitialized `out` array is created via the default\n",
      "    ``out=None``, locations within it where the condition is False will\n",
      "    remain uninitialized.\n",
      "**kwargs\n",
      "    For other keyword-only arguments, see the :ref:`ufunc docs <ufuncs.kwargs>`.\n",
      "\n",
      "Returns\n",
      "-------\n",
      "r : ndarray or tuple of ndarray\n",
      "    `r` will have the shape that the arrays in `x` broadcast to; if `out` is\n",
      "    provided, it will be returned. If not, `r` will be allocated and\n",
      "    may contain uninitialized values. If the function has more than one\n",
      "    output, then the result will be a tuple of arrays."
     ]
    }
   ],
   "source": [
    "# How to get the documentation of the numpy add function from the command line?\n",
    "np.add?"
   ]
  },
  {
   "cell_type": "markdown",
   "metadata": {},
   "source": [
    "# Question 6\n",
    "* Create a null vector of size 10 but the fifth value which is 1"
   ]
  },
  {
   "cell_type": "code",
   "execution_count": 6,
   "metadata": {},
   "outputs": [
    {
     "name": "stdout",
     "output_type": "stream",
     "text": [
      "[0. 0. 0. 0. 1. 0. 0. 0. 0. 0.]\n"
     ]
    }
   ],
   "source": [
    "#Creating a null vector of size 10 but the fifth value is 1\n",
    "null_vector = np.zeros(10)\n",
    "\n",
    "# Set the fifth value to 1\n",
    "null_vector[4] = 1\n",
    "print(null_vector)"
   ]
  },
  {
   "cell_type": "markdown",
   "metadata": {},
   "source": [
    "# Question 7\n",
    "* Create a vector with values ranging from 10 to 49"
   ]
  },
  {
   "cell_type": "code",
   "execution_count": 8,
   "metadata": {},
   "outputs": [
    {
     "name": "stdout",
     "output_type": "stream",
     "text": [
      "[10 11 12 13 14 15 16 17 18 19 20 21 22 23 24 25 26 27 28 29 30 31 32 33\n",
      " 34 35 36 37 38 39 40 41 42 43 44 45 46 47 48 49]\n"
     ]
    }
   ],
   "source": [
    "#Creating a vector with values ranging from 10 to 49\n",
    "vector = np.arange(10,50)\n",
    "print(vector)"
   ]
  },
  {
   "cell_type": "markdown",
   "metadata": {},
   "source": [
    "# Question 8 \n",
    "* Reverse a vector (first element becomes last) "
   ]
  },
  {
   "cell_type": "code",
   "execution_count": 9,
   "metadata": {},
   "outputs": [
    {
     "name": "stdout",
     "output_type": "stream",
     "text": [
      "[49 48 47 46 45 44 43 42 41 40 39 38 37 36 35 34 33 32 31 30 29 28 27 26\n",
      " 25 24 23 22 21 20 19 18 17 16 15 14 13 12 11 10]\n"
     ]
    }
   ],
   "source": [
    "#Reversing a vector (first element becomes last) \n",
    "reversed_vector = vector[::-1]\n",
    "print(reversed_vector)"
   ]
  },
  {
   "cell_type": "markdown",
   "metadata": {},
   "source": [
    "# Question 9\n",
    "* Create a 3x3 matrix with values ranging from 0 to 8"
   ]
  },
  {
   "cell_type": "code",
   "execution_count": 10,
   "metadata": {},
   "outputs": [
    {
     "data": {
      "text/plain": [
       "array([[0, 1, 2],\n",
       "       [3, 4, 5],\n",
       "       [6, 7, 8]])"
      ]
     },
     "execution_count": 10,
     "metadata": {},
     "output_type": "execute_result"
    }
   ],
   "source": [
    "# 3x3 matrix with values ranging from 0 to 8\n",
    "matrix = np.arange(9).reshape((3,3))\n",
    "matrix"
   ]
  },
  {
   "cell_type": "markdown",
   "metadata": {},
   "source": [
    "# Question 10\n",
    "* Find indices of non-zero elements from [1,2,0,0,4,0]"
   ]
  },
  {
   "cell_type": "code",
   "execution_count": 11,
   "metadata": {},
   "outputs": [
    {
     "data": {
      "text/plain": [
       "(array([0, 1, 4], dtype=int64),)"
      ]
     },
     "execution_count": 11,
     "metadata": {},
     "output_type": "execute_result"
    }
   ],
   "source": [
    "#Finding indices of non-zero elements from [1,2,0,0,4,0]\n",
    "array = np.array([1, 2, 0, 0, 4, 0])\n",
    "nonzero_indices = np.nonzero(array)\n",
    "nonzero_indices"
   ]
  },
  {
   "cell_type": "markdown",
   "metadata": {},
   "source": [
    "# Question 11\n",
    "* Create a 3x3 identity matrix"
   ]
  },
  {
   "cell_type": "code",
   "execution_count": 12,
   "metadata": {},
   "outputs": [
    {
     "data": {
      "text/plain": [
       "array([[1., 0., 0.],\n",
       "       [0., 1., 0.],\n",
       "       [0., 0., 1.]])"
      ]
     },
     "execution_count": 12,
     "metadata": {},
     "output_type": "execute_result"
    }
   ],
   "source": [
    "# A 3x3 identity matrix\n",
    "identity_matrix = np.eye(3)\n",
    "\n",
    "identity_matrix"
   ]
  },
  {
   "cell_type": "markdown",
   "metadata": {},
   "source": [
    "# Question 12\n",
    "* Create a 3x3x3 array with random values"
   ]
  },
  {
   "cell_type": "code",
   "execution_count": 13,
   "metadata": {},
   "outputs": [
    {
     "name": "stdout",
     "output_type": "stream",
     "text": [
      "[[[0.93628834 0.81861447 0.7979775 ]\n",
      "  [0.71214372 0.98699623 0.92833377]\n",
      "  [0.48504008 0.06274819 0.65091904]]\n",
      "\n",
      " [[0.76460346 0.81270637 0.98871533]\n",
      "  [0.09040727 0.84491898 0.07210172]\n",
      "  [0.15920513 0.57235647 0.64555623]]\n",
      "\n",
      " [[0.93842693 0.48250031 0.97863731]\n",
      "  [0.79556014 0.53291925 0.57869684]\n",
      "  [0.88263928 0.47708307 0.82349949]]]\n"
     ]
    }
   ],
   "source": [
    "# a 3x3x3 array with random values\n",
    "random_array = np.random.rand(3, 3, 3)\n",
    "print(random_array)"
   ]
  },
  {
   "cell_type": "markdown",
   "metadata": {},
   "source": [
    "# Question 13\n",
    "* Create a 10x10 array with random values and find the minimum and maximum values (★☆☆)\n"
   ]
  },
  {
   "cell_type": "code",
   "execution_count": 16,
   "metadata": {},
   "outputs": [
    {
     "name": "stdout",
     "output_type": "stream",
     "text": [
      "[[3.04165605e-01 6.70962440e-01 7.45123665e-01 3.42046312e-01\n",
      "  4.04956103e-01 9.74888420e-01 1.33361710e-01 7.27540907e-01\n",
      "  9.28979874e-01 4.70501957e-01]\n",
      " [5.32214920e-01 4.92910981e-01 3.50216739e-01 9.74740742e-01\n",
      "  5.27926915e-01 1.20075298e-01 8.28307294e-01 8.46213604e-01\n",
      "  4.89645573e-01 6.09612705e-01]\n",
      " [2.86970491e-01 9.70926034e-01 5.98448517e-01 1.70102586e-01\n",
      "  8.74667983e-01 2.42797439e-01 8.17966683e-01 9.23445865e-01\n",
      "  3.03397619e-01 5.38175455e-02]\n",
      " [9.96704399e-01 7.25158286e-01 1.64142887e-01 8.76705849e-04\n",
      "  6.16191166e-01 7.07821244e-01 7.03551013e-01 3.80925622e-01\n",
      "  1.44635018e-01 7.57624719e-01]\n",
      " [4.39755862e-01 8.46197166e-02 4.17531771e-01 9.99312834e-01\n",
      "  1.45645399e-01 5.79226087e-01 9.50485703e-01 9.59484046e-01\n",
      "  3.63700102e-02 8.87195823e-01]\n",
      " [3.82822319e-01 7.07937912e-01 4.87046153e-01 7.31973996e-01\n",
      "  6.85680279e-01 8.05692600e-01 1.75707978e-01 1.23929318e-01\n",
      "  6.76996996e-01 5.87804282e-01]\n",
      " [2.82987466e-01 5.15325201e-02 6.19934581e-02 2.75402747e-01\n",
      "  6.81494610e-01 1.17840950e-01 6.69761277e-01 8.88526847e-01\n",
      "  1.56211062e-01 7.86682432e-01]\n",
      " [8.59006106e-01 6.29266616e-01 4.90834500e-01 7.04698531e-01\n",
      "  4.64526939e-02 6.29219488e-01 8.63918920e-01 3.29648433e-02\n",
      "  2.70836095e-01 2.34961126e-02]\n",
      " [5.22934493e-02 9.45816678e-01 1.04053363e-01 2.93560176e-01\n",
      "  5.51503941e-01 3.50883031e-01 2.22469248e-01 9.90091958e-01\n",
      "  6.95589345e-01 4.46668094e-01]\n",
      " [7.30206256e-01 6.56530818e-01 7.08562794e-01 5.96406307e-01\n",
      "  3.57462811e-01 5.72778420e-01 2.97401555e-01 1.21743666e-01\n",
      "  4.12821780e-02 6.86839349e-01]]\n",
      "\n",
      "Minimun value: 0.0008767058488770019 Maximum value: 0.9993128339355265\n"
     ]
    }
   ],
   "source": [
    "# a 10x10 array with random values and find the minimum and maximum values (★☆☆)\n",
    "\n",
    "array = np.random.rand(10,10)\n",
    "print(array)\n",
    "print('')\n",
    "min_val = array.min()\n",
    "max_val = array.max()\n",
    "\n",
    "print(f\"Minimun value: {min_val} Maximum value: {max_val}\")"
   ]
  },
  {
   "cell_type": "markdown",
   "metadata": {},
   "source": [
    "# Question 14 \n",
    "* Create a random vector of size 30 and find the mean value"
   ]
  },
  {
   "cell_type": "code",
   "execution_count": 17,
   "metadata": {},
   "outputs": [
    {
     "name": "stdout",
     "output_type": "stream",
     "text": [
      "Mean value: 0.4721284398036395\n"
     ]
    }
   ],
   "source": [
    "# a random vector of size 30 and find the mean value\n",
    "vector = np.random.rand(30)\n",
    "\n",
    "mean = np.mean(vector)\n",
    "print(f\"Mean value: {mean}\")"
   ]
  },
  {
   "cell_type": "markdown",
   "metadata": {},
   "source": [
    "# Question 15\n",
    "* Create a 2d array with 1 on the border and 0 inside"
   ]
  },
  {
   "cell_type": "code",
   "execution_count": 18,
   "metadata": {},
   "outputs": [
    {
     "name": "stdout",
     "output_type": "stream",
     "text": [
      "[[1. 1. 1. 1. 1. 1. 1. 1. 1. 1.]\n",
      " [1. 0. 0. 0. 0. 0. 0. 0. 0. 1.]\n",
      " [1. 0. 0. 0. 0. 0. 0. 0. 0. 1.]\n",
      " [1. 0. 0. 0. 0. 0. 0. 0. 0. 1.]\n",
      " [1. 0. 0. 0. 0. 0. 0. 0. 0. 1.]\n",
      " [1. 0. 0. 0. 0. 0. 0. 0. 0. 1.]\n",
      " [1. 0. 0. 0. 0. 0. 0. 0. 0. 1.]\n",
      " [1. 0. 0. 0. 0. 0. 0. 0. 0. 1.]\n",
      " [1. 0. 0. 0. 0. 0. 0. 0. 0. 1.]\n",
      " [1. 1. 1. 1. 1. 1. 1. 1. 1. 1.]]\n"
     ]
    }
   ],
   "source": [
    "# a 2d array with 1 on the border and 0 inside\n",
    "border_array = np.ones((10, 10))\n",
    "border_array[1:-1, 1:-1] = 0\n",
    "\n",
    "print(border_array)"
   ]
  },
  {
   "cell_type": "markdown",
   "metadata": {},
   "source": [
    "# Questiton 16\n",
    "* How to add a border (filled with 0's) around an existing array?"
   ]
  },
  {
   "cell_type": "code",
   "execution_count": 19,
   "metadata": {},
   "outputs": [
    {
     "name": "stdout",
     "output_type": "stream",
     "text": [
      "Original Array:\n",
      "[[1 2 3]\n",
      " [4 5 6]\n",
      " [7 8 9]]\n",
      "\n",
      "Array with Border:\n",
      "[[0. 0. 0. 0. 0.]\n",
      " [0. 1. 2. 3. 0.]\n",
      " [0. 4. 5. 6. 0.]\n",
      " [0. 7. 8. 9. 0.]\n",
      " [0. 0. 0. 0. 0.]]\n"
     ]
    }
   ],
   "source": [
    "# How to add a border (filled with 0's) around an existing array?\n",
    "\n",
    "# Create an example array\n",
    "original_array = np.array([[1, 2, 3],\n",
    "                           [4, 5, 6],\n",
    "                           [7, 8, 9]])\n",
    "\n",
    "original_array.shape\n",
    "\n",
    "# Create a larger array filled with zeros\n",
    "bordered_array = np.zeros((3 + 2, 3 + 2))\n",
    "\n",
    "# Place the original array inside the larger array\n",
    "bordered_array[1:-1, 1:-1] = original_array\n",
    "\n",
    "print(\"Original Array:\")\n",
    "print(original_array)\n",
    "\n",
    "print(\"\\nArray with Border:\")\n",
    "print(bordered_array)\n"
   ]
  },
  {
   "cell_type": "markdown",
   "metadata": {},
   "source": [
    "# Question 17\n",
    "* What is the result of the following expression?"
   ]
  },
  {
   "cell_type": "code",
   "execution_count": 20,
   "metadata": {},
   "outputs": [
    {
     "data": {
      "text/plain": [
       "False"
      ]
     },
     "execution_count": 20,
     "metadata": {},
     "output_type": "execute_result"
    }
   ],
   "source": [
    "# What is the result of the following expression?\n",
    "0 * np.nan\n",
    "np.nan == np.nan\n",
    "np.inf > np.nan\n",
    "np.nan - np.nan\n",
    "np.nan in set([np.nan])\n",
    "0.3 == 3 * 0.1"
   ]
  },
  {
   "cell_type": "markdown",
   "metadata": {},
   "source": [
    "# Question 18\n",
    "* Create a 5x5 matrix with values 1,2,3,4 just below the diagonal "
   ]
  },
  {
   "cell_type": "code",
   "execution_count": 21,
   "metadata": {},
   "outputs": [
    {
     "name": "stdout",
     "output_type": "stream",
     "text": [
      "[[0 0 0 0 0]\n",
      " [1 0 0 0 0]\n",
      " [0 2 0 0 0]\n",
      " [0 0 3 0 0]\n",
      " [0 0 0 4 0]]\n"
     ]
    }
   ],
   "source": [
    "# a 5x5 matrix with values 1,2,3,4 just below the diagonal \n",
    "diagonal_matrix = np.diag([1, 2, 3, 4], k=-1)\n",
    "\n",
    "print(diagonal_matrix)"
   ]
  },
  {
   "cell_type": "markdown",
   "metadata": {},
   "source": [
    "# Question 19\n",
    "* Create a 8x8 matrix and fill it with a checkerboard pattern"
   ]
  },
  {
   "cell_type": "code",
   "execution_count": 22,
   "metadata": {},
   "outputs": [
    {
     "name": "stdout",
     "output_type": "stream",
     "text": [
      "[[0 1 0 1 0 1 0 1]\n",
      " [1 0 1 0 1 0 1 0]\n",
      " [0 1 0 1 0 1 0 1]\n",
      " [1 0 1 0 1 0 1 0]\n",
      " [0 1 0 1 0 1 0 1]\n",
      " [1 0 1 0 1 0 1 0]\n",
      " [0 1 0 1 0 1 0 1]\n",
      " [1 0 1 0 1 0 1 0]]\n"
     ]
    }
   ],
   "source": [
    "# a 8x8 matrix and fill it with a checkerboard pattern\n",
    "checkerboard_matrix = np.zeros((8, 8), dtype=int)\n",
    "\n",
    "# Filling the checkerboard pattern with 1s\n",
    "checkerboard_matrix[1::2, ::2] = 1\n",
    "checkerboard_matrix[::2, 1::2] = 1\n",
    "\n",
    "print(checkerboard_matrix)"
   ]
  },
  {
   "cell_type": "markdown",
   "metadata": {},
   "source": [
    "# Question 20 \n",
    "* Consider a (6,7,8) shape array, what is the index (x,y,z) of the 100th element?"
   ]
  },
  {
   "cell_type": "code",
   "execution_count": 24,
   "metadata": {},
   "outputs": [
    {
     "name": "stdout",
     "output_type": "stream",
     "text": [
      "Index (x, y, z) of the 100th element: (1, 5, 4)\n"
     ]
    }
   ],
   "source": [
    "# Consider a (6,7,8) shape array, what is the index (x,y,z) of the 100th element?\n",
    "\n",
    "# Defining the shape of the array\n",
    "shape = (6, 7, 8)\n",
    "\n",
    "# Create a flattened array\n",
    "flattened_array = np.arange(np.prod(shape))\n",
    "\n",
    "# Find the index (x, y, z) of the 100th element\n",
    "index_xyz = np.unravel_index(100, shape)\n",
    "\n",
    "print(\"Index (x, y, z) of the 100th element:\", index_xyz)"
   ]
  },
  {
   "cell_type": "markdown",
   "metadata": {},
   "source": [
    "# Question 21\n",
    "* Create a checkerboard 8x8 matrix using the tile function"
   ]
  },
  {
   "cell_type": "code",
   "execution_count": 25,
   "metadata": {},
   "outputs": [
    {
     "name": "stdout",
     "output_type": "stream",
     "text": [
      "[[0 1 0 1 0 1 0 1]\n",
      " [1 0 1 0 1 0 1 0]\n",
      " [0 1 0 1 0 1 0 1]\n",
      " [1 0 1 0 1 0 1 0]\n",
      " [0 1 0 1 0 1 0 1]\n",
      " [1 0 1 0 1 0 1 0]\n",
      " [0 1 0 1 0 1 0 1]\n",
      " [1 0 1 0 1 0 1 0]]\n"
     ]
    }
   ],
   "source": [
    "# Create a checkerboard 8x8 matrix using the tile function\n",
    "# Create a 2x2 checkerboard\n",
    "checkerboard_tile = np.array([[0, 1], [1, 0]])\n",
    "\n",
    "# Use np.tile() to create an 8x8 checkerboard matrix\n",
    "checkerboard_matrix = np.tile(checkerboard_tile, (4, 4))\n",
    "\n",
    "print(checkerboard_matrix)"
   ]
  },
  {
   "cell_type": "markdown",
   "metadata": {},
   "source": [
    "# Question 22\n",
    "* Normalize a 5x5 random matrix "
   ]
  },
  {
   "cell_type": "code",
   "execution_count": 26,
   "metadata": {},
   "outputs": [
    {
     "name": "stdout",
     "output_type": "stream",
     "text": [
      "Original Matrix:\n",
      "[[0.27033876 0.29904541 0.78685922 0.12529762 0.31851138]\n",
      " [0.36704617 0.46171069 0.36860981 0.24387689 0.48859172]\n",
      " [0.22186177 0.2758061  0.24579838 0.89751515 0.75429117]\n",
      " [0.76929702 0.18434264 0.33942738 0.83512957 0.47840456]\n",
      " [0.80579246 0.90172178 0.19631586 0.840664   0.3374109 ]]\n",
      "\n",
      "Normalized Matrix:\n",
      "[[0.18680657 0.22377948 0.8520621  0.         0.24885078]\n",
      " [0.31136145 0.43328516 0.31337535 0.15272486 0.46790674]\n",
      " [0.12437035 0.19384827 0.15519965 0.99458204 0.81011589]\n",
      " [0.82944275 0.07604737 0.27578967 0.91423217 0.45478613]\n",
      " [0.87644727 1.         0.09146835 0.92136027 0.27319253]]\n"
     ]
    }
   ],
   "source": [
    "#Normalize a 5x5 random matrix \n",
    "\n",
    "random_matrix = np.random.rand(5, 5)\n",
    "\n",
    "# Normalize the matrix\n",
    "normalized_matrix = (random_matrix - np.min(random_matrix)) / (np.max(random_matrix) - np.min(random_matrix))\n",
    "\n",
    "print(\"Original Matrix:\")\n",
    "print(random_matrix)\n",
    "\n",
    "print(\"\\nNormalized Matrix:\")\n",
    "print(normalized_matrix)"
   ]
  },
  {
   "cell_type": "markdown",
   "metadata": {},
   "source": [
    "# Question 23\n",
    "* Create a custom dtype that describes a color as four unsigned bytes (RGBA)"
   ]
  },
  {
   "cell_type": "code",
   "execution_count": 27,
   "metadata": {},
   "outputs": [
    {
     "name": "stdout",
     "output_type": "stream",
     "text": [
      "[(255,   0,   0, 255) (  0, 255,   0, 255) (  0,   0, 255, 255)]\n"
     ]
    }
   ],
   "source": [
    "# Define a custom dtype for RGBA color\n",
    "rgba_dtype = np.dtype([('R', np.uint8), ('G', np.uint8), ('B', np.uint8), ('A', np.uint8)])\n",
    "\n",
    "# Create an array with the custom dtype\n",
    "color_array = np.array([(255, 0, 0, 255),  # Red\n",
    "                       (0, 255, 0, 255),   # Green\n",
    "                       (0, 0, 255, 255)],  # Blue\n",
    "                      dtype=rgba_dtype)\n",
    "\n",
    "print(color_array)"
   ]
  },
  {
   "cell_type": "markdown",
   "metadata": {},
   "source": [
    "# Question 24\n",
    "*  Multiply a 5x3 matrix by a 3x2 matrix (real matrix product)"
   ]
  },
  {
   "cell_type": "code",
   "execution_count": 28,
   "metadata": {},
   "outputs": [
    {
     "name": "stdout",
     "output_type": "stream",
     "text": [
      "5x3 Matrix:\n",
      "[[0.16049225 0.02881606 0.28477492]\n",
      " [0.14068291 0.8628728  0.27256985]\n",
      " [0.97912569 0.69248066 0.75335259]\n",
      " [0.73746845 0.61952434 0.44043079]\n",
      " [0.0550821  0.68141852 0.01380931]]\n",
      "\n",
      "3x2 Matrix:\n",
      "[[0.33488485 0.5644815 ]\n",
      " [0.68880461 0.09231751]\n",
      " [0.70493073 0.60644765]]\n",
      "\n",
      "Resultant Matrix (5x2):\n",
      "[[0.27434165 0.26595622]\n",
      " [0.8336062  0.32437051]\n",
      " [1.33593961 1.07349534]\n",
      " [0.98417142 0.74057846]\n",
      " [0.49754498 0.10237431]]\n"
     ]
    }
   ],
   "source": [
    "# Create a 5x3 matrix\n",
    "matrix_a = np.random.rand(5, 3)\n",
    "\n",
    "# Create a 3x2 matrix\n",
    "matrix_b = np.random.rand(3, 2)\n",
    "\n",
    "# Multiply the matrices\n",
    "result_matrix = np.dot(matrix_a, matrix_b)\n",
    "\n",
    "print(\"5x3 Matrix:\")\n",
    "print(matrix_a)\n",
    "\n",
    "print(\"\\n3x2 Matrix:\")\n",
    "print(matrix_b)\n",
    "\n",
    "print(\"\\nResultant Matrix (5x2):\")\n",
    "print(result_matrix)"
   ]
  },
  {
   "cell_type": "markdown",
   "metadata": {},
   "source": [
    "# Question 25\n",
    "* Given a 1D array, negate all elements which are between 3 and 8, in place. "
   ]
  },
  {
   "cell_type": "code",
   "execution_count": 29,
   "metadata": {},
   "outputs": [
    {
     "name": "stdout",
     "output_type": "stream",
     "text": [
      "Modified 1D Array:\n",
      "[ 1 -5 -7 -4  9  2 -6  8  3 10]\n"
     ]
    }
   ],
   "source": [
    "array_1d = np.array([1, 5, 7, 4, 9, 2, 6, 8, 3, 10])\n",
    "\n",
    "\n",
    "array_1d[(array_1d > 3) & (array_1d < 8)] *= -1\n",
    "\n",
    "print(\"Modified 1D Array:\")\n",
    "print(array_1d)"
   ]
  },
  {
   "cell_type": "markdown",
   "metadata": {},
   "source": [
    "# Question 26\n",
    "* What is the output of the following script?\n",
    "* Author: Jake VanderPlas"
   ]
  },
  {
   "cell_type": "code",
   "execution_count": 32,
   "metadata": {},
   "outputs": [
    {
     "name": "stdout",
     "output_type": "stream",
     "text": [
      "10\n",
      "10\n"
     ]
    }
   ],
   "source": [
    "# Author: Jake VanderPlas\n",
    "\n",
    "print(sum(range(5),-1))\n",
    "from numpy import *\n",
    "print(sum(range(5),-1))"
   ]
  },
  {
   "cell_type": "markdown",
   "metadata": {},
   "source": [
    "# QUESTION 27\n",
    "\n",
    "* Consider an integer vector Z, which of these expressions are legal? (★☆☆)"
   ]
  },
  {
   "cell_type": "code",
   "execution_count": 33,
   "metadata": {},
   "outputs": [
    {
     "data": {
      "text/plain": [
       "False"
      ]
     },
     "execution_count": 33,
     "metadata": {},
     "output_type": "execute_result"
    }
   ],
   "source": [
    "Z = 8\n",
    "Z**Z\n",
    "2 << Z >> 2\n",
    "Z <- Z\n",
    "1j*Z\n",
    "Z/1/1\n",
    "Z<Z>Z"
   ]
  },
  {
   "cell_type": "markdown",
   "metadata": {},
   "source": [
    "# Question 28\n",
    "* What are the result of the following expressions"
   ]
  },
  {
   "cell_type": "code",
   "execution_count": 34,
   "metadata": {},
   "outputs": [
    {
     "name": "stderr",
     "output_type": "stream",
     "text": [
      "C:\\Users\\IBRAHIM UMAR FARUK\\AppData\\Local\\Temp\\ipykernel_9280\\548293649.py:1: RuntimeWarning: invalid value encountered in divide\n",
      "  np.array(0) / np.array(0)\n",
      "C:\\Users\\IBRAHIM UMAR FARUK\\AppData\\Local\\Temp\\ipykernel_9280\\548293649.py:2: RuntimeWarning: divide by zero encountered in floor_divide\n",
      "  np.array(0) // np.array(0)\n",
      "C:\\Users\\IBRAHIM UMAR FARUK\\AppData\\Local\\Temp\\ipykernel_9280\\548293649.py:3: RuntimeWarning: invalid value encountered in cast\n",
      "  np.array([np.nan]).astype(int).astype(float)\n"
     ]
    },
    {
     "data": {
      "text/plain": [
       "array([-2.14748365e+09])"
      ]
     },
     "execution_count": 34,
     "metadata": {},
     "output_type": "execute_result"
    }
   ],
   "source": [
    "np.array(0) / np.array(0)\n",
    "np.array(0) // np.array(0)\n",
    "np.array([np.nan]).astype(int).astype(float)"
   ]
  },
  {
   "cell_type": "markdown",
   "metadata": {},
   "source": [
    "# Question 29 \n",
    "* How to round away from zero a float array ?"
   ]
  },
  {
   "cell_type": "code",
   "execution_count": 35,
   "metadata": {},
   "outputs": [
    {
     "name": "stdout",
     "output_type": "stream",
     "text": [
      "Original Float Array:\n",
      "[ 2.3 -4.7  8.1 -1.5  3.9]\n",
      "\n",
      "Rounded Away from Zero:\n",
      "[ 3. -5.  9. -2.  4.]\n"
     ]
    }
   ],
   "source": [
    "# Create a float array\n",
    "float_array = np.array([2.3, -4.7, 8.1, -1.5, 3.9])\n",
    "\n",
    "# Round away from zero\n",
    "rounded_array = np.where(float_array >= 0, np.ceil(float_array), np.floor(float_array))\n",
    "\n",
    "print(\"Original Float Array:\")\n",
    "print(float_array)\n",
    "\n",
    "print(\"\\nRounded Away from Zero:\")\n",
    "print(rounded_array)\n"
   ]
  },
  {
   "cell_type": "markdown",
   "metadata": {},
   "source": [
    "# Question 30\n",
    "* How to find common values between two arrays? "
   ]
  },
  {
   "cell_type": "code",
   "execution_count": 37,
   "metadata": {},
   "outputs": [
    {
     "name": "stdout",
     "output_type": "stream",
     "text": [
      "Common Values: [1, 2, 4]\n"
     ]
    }
   ],
   "source": [
    "# Create two lists\n",
    "list1 = [1, 2, 3, 4, 5]\n",
    "list2 = [2, 4, 1, 6, 7]\n",
    "\n",
    "common_values = list(set(list1) & set(list2))\n",
    "\n",
    "print(\"Common Values:\", common_values)"
   ]
  },
  {
   "cell_type": "markdown",
   "metadata": {},
   "source": [
    "# Question 31 \n",
    "* How to ignore all numpy warnings (not recommended)?"
   ]
  },
  {
   "cell_type": "code",
   "execution_count": 38,
   "metadata": {},
   "outputs": [
    {
     "data": {
      "text/plain": [
       "{'divide': 'ignore', 'over': 'ignore', 'under': 'ignore', 'invalid': 'ignore'}"
      ]
     },
     "execution_count": 38,
     "metadata": {},
     "output_type": "execute_result"
    }
   ],
   "source": [
    "# Save the current warning settings\n",
    "current_settings = np.seterr(all='ignore')\n",
    "\n",
    "# Restore the original warning settings\n",
    "np.seterr(**current_settings)"
   ]
  },
  {
   "cell_type": "markdown",
   "metadata": {},
   "source": [
    "# Question 32\n",
    "* Is the following expressions true? "
   ]
  },
  {
   "cell_type": "code",
   "execution_count": 39,
   "metadata": {},
   "outputs": [
    {
     "name": "stderr",
     "output_type": "stream",
     "text": [
      "C:\\Users\\IBRAHIM UMAR FARUK\\AppData\\Local\\Temp\\ipykernel_9280\\244602691.py:1: RuntimeWarning: invalid value encountered in sqrt\n",
      "  np.sqrt(-1) == np.emath.sqrt(-1)\n"
     ]
    },
    {
     "data": {
      "text/plain": [
       "False"
      ]
     },
     "execution_count": 39,
     "metadata": {},
     "output_type": "execute_result"
    }
   ],
   "source": [
    "np.sqrt(-1) == np.emath.sqrt(-1)"
   ]
  },
  {
   "cell_type": "markdown",
   "metadata": {},
   "source": [
    "# Question 33 \n",
    "* How to get the dates of yesterday, today and tomorrow? "
   ]
  },
  {
   "cell_type": "code",
   "execution_count": 40,
   "metadata": {},
   "outputs": [
    {
     "name": "stdout",
     "output_type": "stream",
     "text": [
      "Yesterday: 2024-02-12\n",
      "Today: 2024-02-13\n",
      "Tomorrow: 2024-02-14\n"
     ]
    }
   ],
   "source": [
    "from datetime import datetime, timedelta\n",
    "\n",
    "# Get today's date\n",
    "today = datetime.now().date()\n",
    "\n",
    "# Get yesterday's date\n",
    "yesterday = today - timedelta(days=1)\n",
    "\n",
    "# Get tomorrow's date\n",
    "tomorrow = today + timedelta(days=1)\n",
    "\n",
    "print(\"Yesterday:\", yesterday)\n",
    "print(\"Today:\", today)\n",
    "print(\"Tomorrow:\", tomorrow)"
   ]
  },
  {
   "cell_type": "markdown",
   "metadata": {},
   "source": [
    "# Question 34\n",
    "* How to get all the dates corresponding to the month of July 2016?"
   ]
  },
  {
   "cell_type": "code",
   "execution_count": 41,
   "metadata": {},
   "outputs": [
    {
     "data": {
      "text/plain": [
       "[datetime.date(2016, 7, 1),\n",
       " datetime.date(2016, 7, 2),\n",
       " datetime.date(2016, 7, 3),\n",
       " datetime.date(2016, 7, 4),\n",
       " datetime.date(2016, 7, 5),\n",
       " datetime.date(2016, 7, 6),\n",
       " datetime.date(2016, 7, 7),\n",
       " datetime.date(2016, 7, 8),\n",
       " datetime.date(2016, 7, 9),\n",
       " datetime.date(2016, 7, 10),\n",
       " datetime.date(2016, 7, 11),\n",
       " datetime.date(2016, 7, 12),\n",
       " datetime.date(2016, 7, 13),\n",
       " datetime.date(2016, 7, 14),\n",
       " datetime.date(2016, 7, 15),\n",
       " datetime.date(2016, 7, 16),\n",
       " datetime.date(2016, 7, 17),\n",
       " datetime.date(2016, 7, 18),\n",
       " datetime.date(2016, 7, 19),\n",
       " datetime.date(2016, 7, 20),\n",
       " datetime.date(2016, 7, 21),\n",
       " datetime.date(2016, 7, 22),\n",
       " datetime.date(2016, 7, 23),\n",
       " datetime.date(2016, 7, 24),\n",
       " datetime.date(2016, 7, 25),\n",
       " datetime.date(2016, 7, 26),\n",
       " datetime.date(2016, 7, 27),\n",
       " datetime.date(2016, 7, 28),\n",
       " datetime.date(2016, 7, 29),\n",
       " datetime.date(2016, 7, 30),\n",
       " datetime.date(2016, 7, 31)]"
      ]
     },
     "execution_count": 41,
     "metadata": {},
     "output_type": "execute_result"
    }
   ],
   "source": [
    "# Define the start and end dates for July 2016\n",
    "start_date = datetime(2016, 7, 1)\n",
    "end_date = datetime(2016, 7, 31)\n",
    "\n",
    "# Generate all the dates for July 2016\n",
    "current_date = start_date\n",
    "all_dates = []\n",
    "\n",
    "while current_date <= end_date:\n",
    "    all_dates.append(current_date.date())\n",
    "    current_date += timedelta(days=1)\n",
    "\n",
    "all_dates"
   ]
  },
  {
   "cell_type": "markdown",
   "metadata": {},
   "source": [
    "# Question 35\n",
    "* How to compute ((A+B)*(-A/2)) in place (without copy)?"
   ]
  },
  {
   "cell_type": "code",
   "execution_count": 43,
   "metadata": {},
   "outputs": [
    {
     "name": "stdout",
     "output_type": "stream",
     "text": [
      "Result: [-15 -28 -45]\n"
     ]
    }
   ],
   "source": [
    "\n",
    "A = np.array([1, 2, 3])\n",
    "B = np.array([4, 5, 6])\n",
    "\n",
    "# Compute the expression in place\n",
    "result = np.add(A, B, out=A)\n",
    "result = np.multiply(result, -A//2, out=result)\n",
    "\n",
    "print(\"Result:\", result)"
   ]
  },
  {
   "cell_type": "markdown",
   "metadata": {},
   "source": [
    "# Question 36\n",
    "* Extract the integer part of a random array of positive numbers using 4 different methods"
   ]
  },
  {
   "cell_type": "code",
   "execution_count": 44,
   "metadata": {},
   "outputs": [
    {
     "name": "stdout",
     "output_type": "stream",
     "text": [
      "Method 1: [0 4 0 8 6]\n",
      "Method 2: [0. 4. 0. 8. 6.]\n",
      "Method 3: [0. 4. 0. 8. 6.]\n",
      "Method 4: [0, 4, 0, 8, 6]\n"
     ]
    }
   ],
   "source": [
    "# Generate a random array of positive numbers\n",
    "random_array = np.random.rand(5) * 10\n",
    "\n",
    "# Method 1: Using astype to convert to integers\n",
    "integer_part_method1 = random_array.astype(int)\n",
    "\n",
    "print(\"Method 1:\", integer_part_method1)\n",
    "\n",
    "# Method 2: Using numpy.floor\n",
    "integer_part_method2 = np.floor(random_array)\n",
    "\n",
    "print(\"Method 2:\", integer_part_method2)\n",
    "\n",
    "# Method 3: Using numpy.ceil\n",
    "integer_part_method3 = np.ceil(random_array) - 1\n",
    "\n",
    "print(\"Method 3:\", integer_part_method3)\n",
    "\n",
    "\n",
    "\n",
    "# Method 4: Using map and int\n",
    "integer_part_method4 = list(map(int, random_array))\n",
    "\n",
    "print(\"Method 4:\", integer_part_method4)\n"
   ]
  },
  {
   "cell_type": "markdown",
   "metadata": {},
   "source": [
    "# Question 37\n",
    "* Create a 5x5 matrix with row values ranging from 0 to 4"
   ]
  },
  {
   "cell_type": "code",
   "execution_count": 47,
   "metadata": {},
   "outputs": [
    {
     "name": "stdout",
     "output_type": "stream",
     "text": [
      "[[0 1 2 3 4]\n",
      " [0 1 2 3 4]\n",
      " [0 1 2 3 4]\n",
      " [0 1 2 3 4]\n",
      " [0 1 2 3 4]]\n"
     ]
    }
   ],
   "source": [
    "matrix_5x5 = np.tile(np.arange(5), (5, 1))\n",
    "\n",
    "print(matrix_5x5)"
   ]
  },
  {
   "cell_type": "markdown",
   "metadata": {},
   "source": [
    "# Question 38\n",
    "*  Consider a generator function that generates 10 integers and use it to build an array"
   ]
  },
  {
   "cell_type": "code",
   "execution_count": 48,
   "metadata": {},
   "outputs": [
    {
     "name": "stdout",
     "output_type": "stream",
     "text": [
      "[0 1 2 3 4 5 6 7 8 9]\n"
     ]
    }
   ],
   "source": [
    "#Generator function to generate 10 integers\n",
    "def integer_generator():\n",
    "    for i in range(10):\n",
    "        yield i\n",
    "\n",
    "# Create an array using the generator function\n",
    "generated_array = np.fromiter(integer_generator(), dtype=int)\n",
    "\n",
    "print(generated_array)"
   ]
  },
  {
   "cell_type": "markdown",
   "metadata": {},
   "source": [
    "# Question 39\n",
    "* Create a vector of size 10 with values ranging from 0 to 1, both excluded"
   ]
  },
  {
   "cell_type": "code",
   "execution_count": 50,
   "metadata": {},
   "outputs": [
    {
     "name": "stdout",
     "output_type": "stream",
     "text": [
      "[0.09090909 0.18181818 0.27272727 0.36363636 0.45454545 0.54545455\n",
      " 0.63636364 0.72727273 0.81818182 0.90909091]\n"
     ]
    }
   ],
   "source": [
    "vector = np.linspace(0, 1, num=12)[1:-1]\n",
    "\n",
    "print(vector)"
   ]
  },
  {
   "cell_type": "markdown",
   "metadata": {},
   "source": [
    "# Question 40\n",
    "* Create a random vector of size 10 and sort it "
   ]
  },
  {
   "cell_type": "code",
   "execution_count": 51,
   "metadata": {},
   "outputs": [
    {
     "name": "stdout",
     "output_type": "stream",
     "text": [
      "Original Random Vector: [0.11575908 0.98041418 0.87449879 0.05410949 0.99690468 0.70086254\n",
      " 0.75690938 0.6787451  0.92273174 0.39444278]\n",
      "Sorted Vector: [0.05410949 0.11575908 0.39444278 0.6787451  0.70086254 0.75690938\n",
      " 0.87449879 0.92273174 0.98041418 0.99690468]\n"
     ]
    }
   ],
   "source": [
    "random_vector = np.random.rand(10)\n",
    "\n",
    "# Sort the vector\n",
    "sorted_vector = np.sort(random_vector)\n",
    "\n",
    "print(\"Original Random Vector:\", random_vector)\n",
    "print(\"Sorted Vector:\", sorted_vector)"
   ]
  },
  {
   "cell_type": "markdown",
   "metadata": {},
   "source": [
    "# Question 41 \n",
    "* How to sum a small array faster than np.sum? \n"
   ]
  },
  {
   "cell_type": "code",
   "execution_count": 52,
   "metadata": {},
   "outputs": [
    {
     "name": "stdout",
     "output_type": "stream",
     "text": [
      "NumPy Sum Result: 15\n",
      "NumPy Sum Time: 0.0\n",
      "Built-in Sum Result: 15\n",
      "Built-in Sum Time: 0.0\n"
     ]
    }
   ],
   "source": [
    "import time\n",
    "\n",
    "# Create a small array\n",
    "small_array = np.array([1, 2, 3, 4, 5])\n",
    "\n",
    "# Measure the time taken by np.sum()\n",
    "start_time_np = time.time()\n",
    "result_np = np.sum(small_array)\n",
    "end_time_np = time.time()\n",
    "print(\"NumPy Sum Result:\", result_np)\n",
    "print(\"NumPy Sum Time:\", end_time_np - start_time_np)\n",
    "\n",
    "# Measure the time taken by Python's built-in sum()\n",
    "start_time_builtin = time.time()\n",
    "result_builtin = sum(small_array)\n",
    "end_time_builtin = time.time()\n",
    "print(\"Built-in Sum Result:\", result_builtin)\n",
    "print(\"Built-in Sum Time:\", end_time_builtin - start_time_builtin)"
   ]
  },
  {
   "cell_type": "markdown",
   "metadata": {},
   "source": [
    "# Question 42\n",
    "*  Consider two random array A and B, check if they are equal "
   ]
  },
  {
   "cell_type": "code",
   "execution_count": 53,
   "metadata": {},
   "outputs": [
    {
     "name": "stdout",
     "output_type": "stream",
     "text": [
      "Array A: [0.37614245 0.44277796 0.18943835 0.79321202 0.34068417]\n",
      "Array B: [0.14431822 0.10722776 0.99528459 0.67287871 0.36408342]\n",
      "Are A and B equal? False\n"
     ]
    }
   ],
   "source": [
    "# Create two random arrays A and B\n",
    "A = np.random.rand(5)\n",
    "B = np.random.rand(5)\n",
    "\n",
    "# Check if arrays A and B are equal\n",
    "are_equal = np.array_equal(A, B)\n",
    "\n",
    "print(\"Array A:\", A)\n",
    "print(\"Array B:\", B)\n",
    "print(\"Are A and B equal?\", are_equal)"
   ]
  },
  {
   "cell_type": "markdown",
   "metadata": {},
   "source": [
    "# Question 43\n",
    "* Make an array immutable (read-only)"
   ]
  },
  {
   "cell_type": "code",
   "execution_count": 54,
   "metadata": {},
   "outputs": [
    {
     "name": "stdout",
     "output_type": "stream",
     "text": [
      "Error: assignment destination is read-only\n"
     ]
    }
   ],
   "source": [
    "\n",
    "# Create a NumPy array\n",
    "my_array = np.array([1, 2, 3, 4, 5])\n",
    "\n",
    "# Make the array read-only\n",
    "my_array.flags.writeable = False\n",
    "\n",
    "# Try to modify the array (will raise an error)\n",
    "try:\n",
    "    my_array[0] = 10\n",
    "except ValueError as e:\n",
    "    print(f\"Error: {e}\")"
   ]
  },
  {
   "cell_type": "markdown",
   "metadata": {},
   "source": [
    "# Question 44\n",
    "* Consider a random 10x2 matrix representing cartesian coordinates, convert them to polar coordinates "
   ]
  },
  {
   "cell_type": "code",
   "execution_count": 55,
   "metadata": {},
   "outputs": [
    {
     "name": "stdout",
     "output_type": "stream",
     "text": [
      "Cartesian Coordinates:\n",
      "[[0.91789157 0.94864825]\n",
      " [0.95399735 0.32220143]\n",
      " [0.78039922 0.79498508]\n",
      " [0.86074391 0.58839485]\n",
      " [0.80887867 0.59368129]\n",
      " [0.86528812 0.43298649]\n",
      " [0.83006229 0.10734497]\n",
      " [0.14808712 0.88270417]\n",
      " [0.14148941 0.73973452]\n",
      " [0.1747236  0.2258848 ]]\n",
      "\n",
      "Polar Coordinates:\n",
      "[[1.32002214 0.80187458]\n",
      " [1.00693829 0.32570976]\n",
      " [1.11401267 0.7946565 ]\n",
      " [1.0426354  0.59962658]\n",
      " [1.00336542 0.63315358]\n",
      " [0.96757471 0.46396415]\n",
      " [0.83697452 0.1286078 ]\n",
      " [0.89503991 1.40457891]\n",
      " [0.75314435 1.38180841]\n",
      " [0.2855736  0.91241933]]\n"
     ]
    }
   ],
   "source": [
    "# Create a random 10x2 matrix representing Cartesian coordinates\n",
    "cartesian_coordinates = np.random.rand(10, 2)\n",
    "\n",
    "# Extract x and y coordinates\n",
    "x, y = cartesian_coordinates[:, 0], cartesian_coordinates[:, 1]\n",
    "\n",
    "# Convert to polar coordinates\n",
    "radius = np.sqrt(x**2 + y**2)\n",
    "theta = np.arctan2(y, x)\n",
    "\n",
    "# Create a 10x2 matrix representing polar coordinates\n",
    "polar_coordinates = np.column_stack((radius, theta))\n",
    "\n",
    "print(\"Cartesian Coordinates:\")\n",
    "print(cartesian_coordinates)\n",
    "print(\"\\nPolar Coordinates:\")\n",
    "print(polar_coordinates)"
   ]
  },
  {
   "cell_type": "markdown",
   "metadata": {},
   "source": [
    "# Question 45\n",
    "* Create random vector of size 10 and replace the maximum value by 0"
   ]
  },
  {
   "cell_type": "code",
   "execution_count": 56,
   "metadata": {},
   "outputs": [
    {
     "name": "stdout",
     "output_type": "stream",
     "text": [
      "Random Vector: [0.69597481 0.41981116 0.12332529 0.         0.29948208 0.26521355\n",
      " 0.08021392 0.09124705 0.25008975 0.14886454]\n"
     ]
    }
   ],
   "source": [
    "# Create a random vector of size 10\n",
    "random_vector = np.random.rand(10)\n",
    "\n",
    "# Find the index of the maximum value\n",
    "max_index = np.argmax(random_vector)\n",
    "\n",
    "# Replace the maximum value with 0\n",
    "random_vector[max_index] = 0\n",
    "\n",
    "print(\"Random Vector:\", random_vector)"
   ]
  },
  {
   "cell_type": "markdown",
   "metadata": {},
   "source": [
    "# Question 46\n",
    "* Create a structured array with x and y coordinates covering the [0,1]x[0,1] area"
   ]
  },
  {
   "cell_type": "code",
   "execution_count": 57,
   "metadata": {},
   "outputs": [
    {
     "name": "stdout",
     "output_type": "stream",
     "text": [
      "[[(0.  , 0.  ) (0.  , 0.  )]\n",
      " [(0.25, 0.25) (0.  , 0.  )]\n",
      " [(0.5 , 0.5 ) (0.  , 0.  )]\n",
      " [(0.75, 0.75) (0.  , 0.  )]\n",
      " [(1.  , 1.  ) (0.  , 0.  )]\n",
      " [(0.  , 0.  ) (0.25, 0.25)]\n",
      " [(0.25, 0.25) (0.25, 0.25)]\n",
      " [(0.5 , 0.5 ) (0.25, 0.25)]\n",
      " [(0.75, 0.75) (0.25, 0.25)]\n",
      " [(1.  , 1.  ) (0.25, 0.25)]\n",
      " [(0.  , 0.  ) (0.5 , 0.5 )]\n",
      " [(0.25, 0.25) (0.5 , 0.5 )]\n",
      " [(0.5 , 0.5 ) (0.5 , 0.5 )]\n",
      " [(0.75, 0.75) (0.5 , 0.5 )]\n",
      " [(1.  , 1.  ) (0.5 , 0.5 )]\n",
      " [(0.  , 0.  ) (0.75, 0.75)]\n",
      " [(0.25, 0.25) (0.75, 0.75)]\n",
      " [(0.5 , 0.5 ) (0.75, 0.75)]\n",
      " [(0.75, 0.75) (0.75, 0.75)]\n",
      " [(1.  , 1.  ) (0.75, 0.75)]\n",
      " [(0.  , 0.  ) (1.  , 1.  )]\n",
      " [(0.25, 0.25) (1.  , 1.  )]\n",
      " [(0.5 , 0.5 ) (1.  , 1.  )]\n",
      " [(0.75, 0.75) (1.  , 1.  )]\n",
      " [(1.  , 1.  ) (1.  , 1.  )]]\n"
     ]
    }
   ],
   "source": [
    "# Define the number of points in each dimension\n",
    "num_points = 5\n",
    "\n",
    "# Generate x and y coordinates\n",
    "x = np.linspace(0, 1, num_points)\n",
    "y = np.linspace(0, 1, num_points)\n",
    "\n",
    "# Create a meshgrid\n",
    "x_grid, y_grid = np.meshgrid(x, y)\n",
    "\n",
    "# Stack the coordinates to create a structured array\n",
    "structured_array = np.column_stack((x_grid.ravel(), y_grid.ravel()))\n",
    "\n",
    "# Specify field names for x and y\n",
    "structured_array = np.array(structured_array, dtype=[('x', float), ('y', float)])\n",
    "\n",
    "print(structured_array)"
   ]
  },
  {
   "cell_type": "markdown",
   "metadata": {},
   "source": [
    "# Question 47 \n",
    "* Given two arrays, X and Y, construct the Cauchy matrix C (Cij =1/(xi - yj))"
   ]
  },
  {
   "cell_type": "code",
   "execution_count": 58,
   "metadata": {},
   "outputs": [
    {
     "data": {
      "text/plain": [
       "array([[0.  , 0.  ],\n",
       "       [0.25, 0.  ],\n",
       "       [0.5 , 0.  ],\n",
       "       [0.75, 0.  ],\n",
       "       [1.  , 0.  ],\n",
       "       [0.  , 0.25],\n",
       "       [0.25, 0.25],\n",
       "       [0.5 , 0.25],\n",
       "       [0.75, 0.25],\n",
       "       [1.  , 0.25],\n",
       "       [0.  , 0.5 ],\n",
       "       [0.25, 0.5 ],\n",
       "       [0.5 , 0.5 ],\n",
       "       [0.75, 0.5 ],\n",
       "       [1.  , 0.5 ],\n",
       "       [0.  , 0.75],\n",
       "       [0.25, 0.75],\n",
       "       [0.5 , 0.75],\n",
       "       [0.75, 0.75],\n",
       "       [1.  , 0.75],\n",
       "       [0.  , 1.  ],\n",
       "       [0.25, 1.  ],\n",
       "       [0.5 , 1.  ],\n",
       "       [0.75, 1.  ],\n",
       "       [1.  , 1.  ]])"
      ]
     },
     "execution_count": 58,
     "metadata": {},
     "output_type": "execute_result"
    }
   ],
   "source": [
    "structured_array = np.column_stack((x_grid.ravel(), y_grid.ravel()))\n",
    "structured_array"
   ]
  },
  {
   "cell_type": "markdown",
   "metadata": {},
   "source": [
    "# Question 48\n",
    "* Print the minimum and maximum representable value for each numpy scalar type"
   ]
  },
  {
   "cell_type": "code",
   "execution_count": 59,
   "metadata": {},
   "outputs": [
    {
     "data": {
      "text/plain": [
       "array([0.  , 0.25, 0.5 , 0.75, 1.  ])"
      ]
     },
     "execution_count": 59,
     "metadata": {},
     "output_type": "execute_result"
    }
   ],
   "source": [
    "x"
   ]
  },
  {
   "cell_type": "markdown",
   "metadata": {},
   "source": [
    "# Question 49\n",
    "* How to print all the values of an array? "
   ]
  },
  {
   "cell_type": "code",
   "execution_count": 60,
   "metadata": {},
   "outputs": [
    {
     "data": {
      "text/plain": [
       "array([0.  , 0.25, 0.5 , 0.75, 1.  ])"
      ]
     },
     "execution_count": 60,
     "metadata": {},
     "output_type": "execute_result"
    }
   ],
   "source": [
    "y"
   ]
  },
  {
   "cell_type": "markdown",
   "metadata": {},
   "source": [
    "# Question 50\n",
    "* How to find the closest value (to a given scalar) in a vector?"
   ]
  },
  {
   "cell_type": "code",
   "execution_count": 61,
   "metadata": {},
   "outputs": [
    {
     "data": {
      "text/plain": [
       "array([[0.  , 0.  , 0.  , 0.  , 0.  ],\n",
       "       [0.25, 0.25, 0.25, 0.25, 0.25],\n",
       "       [0.5 , 0.5 , 0.5 , 0.5 , 0.5 ],\n",
       "       [0.75, 0.75, 0.75, 0.75, 0.75],\n",
       "       [1.  , 1.  , 1.  , 1.  , 1.  ]])"
      ]
     },
     "execution_count": 61,
     "metadata": {},
     "output_type": "execute_result"
    }
   ],
   "source": [
    "y_grid"
   ]
  },
  {
   "cell_type": "markdown",
   "metadata": {},
   "source": [
    "# Question 51\n",
    "*  Create a structured array representing a position (x,y) and a color (r,g,b)"
   ]
  },
  {
   "cell_type": "code",
   "execution_count": 62,
   "metadata": {},
   "outputs": [
    {
     "name": "stdout",
     "output_type": "stream",
     "text": [
      "[((1., 2.), (255,   0,   0)) ((3., 4.), (  0, 255,   0))\n",
      " ((5., 6.), (  0,   0, 255))]\n"
     ]
    }
   ],
   "source": [
    "\n",
    "dtype = [('position', [('x', float), ('y', float)]), ('color', [('r', int), ('g', int), ('b', int)])]\n",
    "data = np.array([((1.0, 2.0), (255, 0, 0)), ((3.0, 4.0), (0, 255, 0)), ((5.0, 6.0), (0, 0, 255))], dtype=dtype)\n",
    "\n",
    "print(data)"
   ]
  },
  {
   "cell_type": "markdown",
   "metadata": {},
   "source": [
    "# Question 52\n",
    "* Consider a random vector with shape (100,2) representing coordinates, find point by point distances"
   ]
  },
  {
   "cell_type": "code",
   "execution_count": 63,
   "metadata": {},
   "outputs": [
    {
     "name": "stdout",
     "output_type": "stream",
     "text": [
      "[[0.         0.50168234 0.33790897 ... 0.57700074 0.49413299 0.39357085]\n",
      " [0.50168234 0.         0.23213077 ... 0.67504189 0.79682461 0.53581034]\n",
      " [0.33790897 0.23213077 0.         ... 0.7183526  0.75500815 0.54246812]\n",
      " ...\n",
      " [0.57700074 0.67504189 0.7183526  ... 0.         0.28130177 0.18762519]\n",
      " [0.49413299 0.79682461 0.75500815 ... 0.28130177 0.         0.2761244 ]\n",
      " [0.39357085 0.53581034 0.54246812 ... 0.18762519 0.2761244  0.        ]]\n"
     ]
    }
   ],
   "source": [
    "# Generate random vector of coordinates\n",
    "coordinates = np.random.rand(100, 2)\n",
    "\n",
    "# Calculate point-by-point distances\n",
    "distances = np.sqrt(np.sum((coordinates - coordinates[:, np.newaxis])**2, axis=2))\n",
    "\n",
    "print(distances)"
   ]
  },
  {
   "cell_type": "markdown",
   "metadata": {},
   "source": [
    "# Question 53\n",
    "* How to convert a float (32 bits) array into an integer (32 bits) in place"
   ]
  },
  {
   "cell_type": "code",
   "execution_count": 64,
   "metadata": {},
   "outputs": [
    {
     "name": "stdout",
     "output_type": "stream",
     "text": [
      "Float array: [1.5 2.7 3.8]\n",
      "Integer array: [1.e-45 3.e-45 4.e-45]\n"
     ]
    }
   ],
   "source": [
    "# Create a float array\n",
    "float_array = np.array([1.5, 2.7, 3.8], dtype=np.float32)\n",
    "print(\"Float array:\", float_array)\n",
    "\n",
    "# Convert float array to int array in place\n",
    "float_array.view(dtype=np.int32)[:] = float_array\n",
    "\n",
    "print(\"Integer array:\", float_array)"
   ]
  },
  {
   "cell_type": "markdown",
   "metadata": {},
   "source": [
    "# Question 54\n",
    "* How to read the following file? (★★☆)\n"
   ]
  },
  {
   "cell_type": "code",
   "execution_count": 65,
   "metadata": {},
   "outputs": [
    {
     "data": {
      "text/plain": [
       "' \\n1, 2, 3, 4, 5\\n6,  ,  , 7, 8\\n ,  , 9,10,11 \\n '"
      ]
     },
     "execution_count": 65,
     "metadata": {},
     "output_type": "execute_result"
    }
   ],
   "source": [
    "\"\"\" \n",
    "1, 2, 3, 4, 5\n",
    "6,  ,  , 7, 8\n",
    " ,  , 9,10,11 \n",
    " \"\"\""
   ]
  },
  {
   "cell_type": "markdown",
   "metadata": {},
   "source": [
    "# Question 55\n",
    "* What is the equivalent of enumerate for numpy arrays?"
   ]
  },
  {
   "cell_type": "code",
   "execution_count": 66,
   "metadata": {},
   "outputs": [
    {
     "name": "stdout",
     "output_type": "stream",
     "text": [
      "Index: (0, 0) Value: 1\n",
      "Index: (0, 1) Value: 2\n",
      "Index: (0, 2) Value: 3\n",
      "Index: (1, 0) Value: 4\n",
      "Index: (1, 1) Value: 5\n",
      "Index: (1, 2) Value: 6\n",
      "Index: (2, 0) Value: 7\n",
      "Index: (2, 1) Value: 8\n",
      "Index: (2, 2) Value: 9\n"
     ]
    }
   ],
   "source": [
    "# Create a 2D NumPy array\n",
    "arr = np.array([[1, 2, 3], [4, 5, 6], [7, 8, 9]])\n",
    "\n",
    "# Enumerate over the array\n",
    "for index, value in np.ndenumerate(arr):\n",
    "    print(\"Index:\", index, \"Value:\", value)"
   ]
  },
  {
   "cell_type": "markdown",
   "metadata": {},
   "source": [
    "# Question 56\n",
    "* Generate a generic 2D Gaussian-like array "
   ]
  },
  {
   "cell_type": "code",
   "execution_count": 67,
   "metadata": {},
   "outputs": [
    {
     "name": "stdout",
     "output_type": "stream",
     "text": [
      "[[0.01831564 0.082085   0.13533528 0.082085   0.01831564]\n",
      " [0.082085   0.36787944 0.60653066 0.36787944 0.082085  ]\n",
      " [0.13533528 0.60653066 1.         0.60653066 0.13533528]\n",
      " [0.082085   0.36787944 0.60653066 0.36787944 0.082085  ]\n",
      " [0.01831564 0.082085   0.13533528 0.082085   0.01831564]]\n"
     ]
    }
   ],
   "source": [
    "def gaussian_2d(shape, sigma=1):\n",
    "    m, n = [(ss - 1.) / 2. for ss in shape]\n",
    "    y, x = np.ogrid[-m:m+1, -n:n+1]\n",
    "    h = np.exp(-(x * x + y * y) / (2 * sigma * sigma))\n",
    "    h[h < np.finfo(h.dtype).eps * h.max()] = 0\n",
    "    return h\n",
    "\n",
    "gaussian_array = gaussian_2d((5, 5), sigma=1)\n",
    "print(gaussian_array)"
   ]
  },
  {
   "cell_type": "markdown",
   "metadata": {},
   "source": [
    "# Question 57\n",
    "### How to randomly place p elements in a 2D array? (★★☆)"
   ]
  },
  {
   "cell_type": "code",
   "execution_count": 68,
   "metadata": {},
   "outputs": [
    {
     "name": "stdout",
     "output_type": "stream",
     "text": [
      "[[0. 0. 0. 0. 0.]\n",
      " [0. 0. 0. 1. 0.]\n",
      " [0. 0. 0. 0. 1.]\n",
      " [0. 0. 1. 0. 0.]\n",
      " [1. 0. 0. 1. 0.]]\n"
     ]
    }
   ],
   "source": [
    "def random_placement_2d_array(shape, p):\n",
    "    arr = np.zeros(shape)\n",
    "    indices = np.random.choice(np.prod(shape), p, replace=False)\n",
    "    arr.flat[indices] = 1\n",
    "    return arr\n",
    "\n",
    "# Example usage:\n",
    "random_array = random_placement_2d_array((5, 5), 5)\n",
    "print(random_array)"
   ]
  },
  {
   "cell_type": "markdown",
   "metadata": {},
   "source": [
    "# Question 58\n",
    "### Subtract the mean of each row of a matrix (★★☆)"
   ]
  },
  {
   "cell_type": "code",
   "execution_count": 69,
   "metadata": {},
   "outputs": [
    {
     "name": "stdout",
     "output_type": "stream",
     "text": [
      "[[ 0.18086766 -0.05157501 -0.12929265]\n",
      " [-0.29841127  0.19397259  0.10443869]\n",
      " [ 0.06259372  0.12594143 -0.18853515]]\n"
     ]
    }
   ],
   "source": [
    "import numpy as np\n",
    "\n",
    "# Create a sample matrix\n",
    "matrix = np.random.rand(3, 3)\n",
    "\n",
    "# Subtract the mean of each row\n",
    "result = matrix - matrix.mean(axis=1, keepdims=True)\n",
    "\n",
    "print(result)"
   ]
  },
  {
   "cell_type": "markdown",
   "metadata": {},
   "source": [
    "# Question 59\n",
    "### How to sort an array by the nth column? (★★☆)"
   ]
  },
  {
   "cell_type": "code",
   "execution_count": 70,
   "metadata": {},
   "outputs": [
    {
     "name": "stdout",
     "output_type": "stream",
     "text": [
      "[[8 3 5]\n",
      " [7 3 2]\n",
      " [6 4 9]\n",
      " [7 5 6]\n",
      " [7 8 1]]\n"
     ]
    }
   ],
   "source": [
    "import numpy as np\n",
    "\n",
    "# Create a sample array\n",
    "array = np.random.randint(0, 10, size=(5, 3))\n",
    "\n",
    "# Sort by the nth column (let's say n=1)\n",
    "n = 1\n",
    "sorted_array = array[array[:, n].argsort()]\n",
    "\n",
    "print(sorted_array)"
   ]
  },
  {
   "cell_type": "markdown",
   "metadata": {},
   "source": [
    "# Question 60\n",
    "### How to tell if a given 2D array has null columns? (★★☆)"
   ]
  },
  {
   "cell_type": "code",
   "execution_count": 72,
   "metadata": {},
   "outputs": [
    {
     "name": "stdout",
     "output_type": "stream",
     "text": [
      "Array 1 has null columns: False\n",
      "Array 2 has null columns: True\n"
     ]
    }
   ],
   "source": [
    "import numpy as np\n",
    "\n",
    "def has_null_columns(array):\n",
    "    return np.any(np.all(array == 0, axis=0))\n",
    "\n",
    "# Example usage:\n",
    "arr1 = np.array([[1, 2, 3], [0, 0, 0], [4, 5, 6]])\n",
    "arr2 = np.array([[0, 0, 0], [0, 0, 0], [0, 0, 0]])\n",
    "\n",
    "print(\"Array 1 has null columns:\", has_null_columns(arr1))\n",
    "print(\"Array 2 has null columns:\", has_null_columns(arr2))"
   ]
  },
  {
   "cell_type": "markdown",
   "metadata": {},
   "source": [
    "# Question 61\n",
    "### Find the nearest value from a given value in an array (★★☆)"
   ]
  },
  {
   "cell_type": "code",
   "execution_count": 73,
   "metadata": {},
   "outputs": [
    {
     "name": "stdout",
     "output_type": "stream",
     "text": [
      "Array: [  1   3   5   7   9  59  78 100]\n",
      "Nearest value to 108: 100\n"
     ]
    }
   ],
   "source": [
    "def nearest_value(array, value):\n",
    "    # Find the index of the nearest value\n",
    "    index = np.argmin(np.abs(array - value))\n",
    "    \n",
    "    # Get the nearest value\n",
    "    nearest = array[index]\n",
    "    \n",
    "    return nearest\n",
    "\n",
    "# Example usage\n",
    "my_array = np.array([1, 3, 5, 7, 9,59, 78,100])\n",
    "\n",
    "given_value = 108\n",
    "result = nearest_value(my_array, given_value)\n",
    "\n",
    "print(\"Array:\", my_array)\n",
    "print(f\"Nearest value to {given_value}: {result}\")\n"
   ]
  },
  {
   "cell_type": "markdown",
   "metadata": {},
   "source": [
    "# Question 62\n",
    "### Considering two arrays with shape (1,3) and (3,1), how to compute their sum using an iterator? (★★☆)"
   ]
  },
  {
   "cell_type": "code",
   "execution_count": 74,
   "metadata": {},
   "outputs": [
    {
     "name": "stdout",
     "output_type": "stream",
     "text": [
      "Array 1:\n",
      "[[1 2 3]]\n",
      "\n",
      "Array 2:\n",
      "[[4]\n",
      " [5]\n",
      " [6]]\n",
      "\n",
      "Sum using iterator:\n",
      "[[5 6 7]\n",
      " [6 7 8]\n",
      " [7 8 9]]\n"
     ]
    }
   ],
   "source": [
    "# Create two arrays with shapes (1,3) and (3,1)\n",
    "array1 = np.array([[1, 2, 3]])\n",
    "array2 = np.array([[4], [5], [6]])\n",
    "\n",
    "# Initialize the iterator\n",
    "it = np.nditer([array1, array2, None])\n",
    "\n",
    "# Iterate over the arrays and compute the sum\n",
    "for x, y, z in it:\n",
    "    z[...] = x + y\n",
    "\n",
    "# Get the result array\n",
    "result_array = it.operands[2]\n",
    "\n",
    "print(\"Array 1:\")\n",
    "print(array1)\n",
    "print(\"\\nArray 2:\")\n",
    "print(array2)\n",
    "print(\"\\nSum using iterator:\")\n",
    "print(result_array)"
   ]
  },
  {
   "cell_type": "markdown",
   "metadata": {},
   "source": [
    "# Question 63\n",
    "### Create an array class that has a name attribute (★★☆)"
   ]
  },
  {
   "cell_type": "code",
   "execution_count": 75,
   "metadata": {},
   "outputs": [
    {
     "name": "stdout",
     "output_type": "stream",
     "text": [
      "Name: ExampleArray\n",
      "Array: [1, 2, 3, 4, 5]\n"
     ]
    }
   ],
   "source": [
    "class NamedArray:\n",
    "    def __init__(self, array, name):\n",
    "        self.array = array\n",
    "        self.name = name\n",
    "\n",
    "# Example usage\n",
    "data = [1, 2, 3, 4, 5]\n",
    "array_with_name = NamedArray(data, \"ExampleArray\")\n",
    "\n",
    "# Accessing attributes\n",
    "print(f\"Name: {array_with_name.name}\")\n",
    "print(f\"Array: {array_with_name.array}\")"
   ]
  },
  {
   "cell_type": "markdown",
   "metadata": {},
   "source": [
    "# Question 64\n",
    "### Consider a given vector, how to add 1 to each element indexed by a second vector (be careful with repeated indices)? (★★★)"
   ]
  },
  {
   "cell_type": "code",
   "execution_count": 76,
   "metadata": {},
   "outputs": [
    {
     "name": "stdout",
     "output_type": "stream",
     "text": [
      "Original Vector: [1 3 3 5 6]\n",
      "Indices to add 1: [1 2 3 2 4]\n",
      "Result Vector: [1 3 3 5 6]\n"
     ]
    }
   ],
   "source": [
    "def add_one_at_indices(vector, indices):\n",
    "    # Find unique indices and their counts\n",
    "    unique_indices, counts = np.unique(indices, return_counts=True)\n",
    "    \n",
    "    # Add 1 to each element at unique indices\n",
    "    vector[unique_indices] += 1\n",
    "    \n",
    "    # Adjust for repeated indices\n",
    "    vector[unique_indices] -= counts - 1\n",
    "    \n",
    "    return vector\n",
    "\n",
    "original_vector = np.array([1, 2, 3, 4, 5])\n",
    "indices_to_add_one = np.array([1, 2, 3, 2, 4])\n",
    "\n",
    "result_vector = add_one_at_indices(original_vector, indices_to_add_one)\n",
    "\n",
    "print(\"Original Vector:\", original_vector)\n",
    "print(\"Indices to add 1:\", indices_to_add_one)\n",
    "print(\"Result Vector:\", result_vector)"
   ]
  },
  {
   "cell_type": "markdown",
   "metadata": {},
   "source": [
    "# Question 65\n",
    "###  How to accumulate elements of a vector (X) to an array (F) based on an index list (I)? (★★★)"
   ]
  },
  {
   "cell_type": "code",
   "execution_count": 77,
   "metadata": {},
   "outputs": [
    {
     "name": "stdout",
     "output_type": "stream",
     "text": [
      "Vector X: [1 2 3 4 5]\n",
      "Initial Array F: [0. 3. 5. 0. 0. 7. 0. 0. 0. 0.]\n",
      "Index List I: [2 5 1 2 5]\n",
      "Result Array F after accumulation: [0. 3. 5. 0. 0. 7. 0. 0. 0. 0.]\n"
     ]
    }
   ],
   "source": [
    "\n",
    "def accumulate_elements(X, F, I):\n",
    "    # Use numpy.add.at to accumulate elements based on indices\n",
    "    np.add.at(F, I, X)\n",
    "    \n",
    "    return F\n",
    "\n",
    "# Example usage\n",
    "X = np.array([1, 2, 3, 4, 5])\n",
    "F = np.zeros(10)  # Initial array with zeros\n",
    "I = np.array([2, 5, 1, 2, 5])\n",
    "\n",
    "result_array = accumulate_elements(X, F, I)\n",
    "\n",
    "print(\"Vector X:\", X)\n",
    "print(\"Initial Array F:\", F)\n",
    "print(\"Index List I:\", I)\n",
    "print(\"Result Array F after accumulation:\", result_array)\n"
   ]
  },
  {
   "cell_type": "markdown",
   "metadata": {},
   "source": [
    "# Question 66\n",
    "### Considering a (w,h,3) image of (dtype=ubyte), compute the number of unique colors (★★☆)\n"
   ]
  },
  {
   "cell_type": "code",
   "execution_count": 78,
   "metadata": {},
   "outputs": [
    {
     "name": "stdout",
     "output_type": "stream",
     "text": [
      "Number of unique colors: 16\n"
     ]
    }
   ],
   "source": [
    "\n",
    "def count_unique_colors(image):\n",
    "    # Reshape the image to a 2D array with 3 columns (RGB channels)\n",
    "    reshaped_image = np.reshape(image, (image.shape[0] * image.shape[1], 3))\n",
    "\n",
    "    # Convert the reshaped image to a list of tuples\n",
    "    color_tuples = [tuple(color) for color in reshaped_image]\n",
    "\n",
    "    # Get the number of unique colors using a set\n",
    "    unique_colors = set(color_tuples)\n",
    "\n",
    "    return len(unique_colors)\n",
    "\n",
    "# Example usage\n",
    "# Assuming img is your (w, h, 3) image with dtype=ubyte\n",
    "w, h = 4, 4\n",
    "img = np.random.randint(0, 256, size=(w, h, 3), dtype=np.uint8)\n",
    "\n",
    "unique_colors_count = count_unique_colors(img)\n",
    "print(\"Number of unique colors:\", unique_colors_count)"
   ]
  },
  {
   "cell_type": "markdown",
   "metadata": {},
   "source": [
    "# Question 67\n",
    "### Considering a four dimensions array, how to get sum over the last two axis at once? (★★★)"
   ]
  },
  {
   "cell_type": "code",
   "execution_count": 79,
   "metadata": {},
   "outputs": [
    {
     "name": "stdout",
     "output_type": "stream",
     "text": [
      "Original 4D Array:\n",
      "[[[[7 5 9 1 6]\n",
      "   [2 0 9 5 8]]\n",
      "\n",
      "  [[5 3 4 8 2]\n",
      "   [9 5 4 3 7]]\n",
      "\n",
      "  [[1 8 2 6 2]\n",
      "   [4 4 5 1 2]]\n",
      "\n",
      "  [[3 6 6 9 2]\n",
      "   [1 5 1 3 5]]]\n",
      "\n",
      "\n",
      " [[[2 0 0 7 8]\n",
      "   [8 0 5 5 6]]\n",
      "\n",
      "  [[1 6 9 8 4]\n",
      "   [4 1 1 5 9]]\n",
      "\n",
      "  [[1 3 7 2 5]\n",
      "   [0 2 8 0 6]]\n",
      "\n",
      "  [[2 6 5 2 7]\n",
      "   [0 1 6 3 2]]]\n",
      "\n",
      "\n",
      " [[[5 0 1 7 5]\n",
      "   [5 7 1 9 0]]\n",
      "\n",
      "  [[6 3 1 8 8]\n",
      "   [6 5 0 2 3]]\n",
      "\n",
      "  [[9 7 1 7 1]\n",
      "   [3 0 9 6 0]]\n",
      "\n",
      "  [[4 2 7 3 8]\n",
      "   [2 9 8 7 4]]]]\n",
      "\n",
      "Sum over the last two axes:\n",
      "[[52 50 35 41]\n",
      " [41 48 34 34]\n",
      " [40 42 43 54]]\n"
     ]
    }
   ],
   "source": [
    "# Create a sample 4D array\n",
    "four_dim_array = np.random.randint(0, 10, size=(3, 4, 2, 5))\n",
    "\n",
    "# Get the sum over the last two axes\n",
    "sum_over_last_two_axes = np.sum(four_dim_array, axis=(-2, -1))\n",
    "\n",
    "print(\"Original 4D Array:\")\n",
    "print(four_dim_array)\n",
    "print(\"\\nSum over the last two axes:\")\n",
    "print(sum_over_last_two_axes)"
   ]
  },
  {
   "cell_type": "markdown",
   "metadata": {},
   "source": [
    "# Question 68\n",
    "### Considering a one-dimensional vector D, how to compute means of subsets of D using a vector S of same size describing subset indices? (★★★)"
   ]
  },
  {
   "cell_type": "code",
   "execution_count": 80,
   "metadata": {},
   "outputs": [
    {
     "name": "stdout",
     "output_type": "stream",
     "text": [
      "Vector D: [1 2 3 4 5 6]\n",
      "Subset Indices S: [0 1 0 1 2 2]\n",
      "Means of Subsets: [2.  3.  5.5]\n"
     ]
    }
   ],
   "source": [
    "def subset_means(D, S):\n",
    "    unique_indices = np.unique(S)\n",
    "    bin_sum = np.bincount(S, weights=D)\n",
    "    bin_count = np.bincount(S)\n",
    "    \n",
    "    means = bin_sum[unique_indices] / bin_count[unique_indices]\n",
    "    \n",
    "    return means\n",
    "\n",
    "D = np.array([1, 2, 3, 4, 5, 6])\n",
    "S = np.array([0, 1, 0, 1, 2, 2])\n",
    "\n",
    "result_means = subset_means(D, S)\n",
    "\n",
    "print(\"Vector D:\", D)\n",
    "print(\"Subset Indices S:\", S)\n",
    "print(\"Means of Subsets:\", result_means)"
   ]
  },
  {
   "cell_type": "markdown",
   "metadata": {},
   "source": [
    "# Question 69\n",
    "### How to get the diagonal of a dot product? (★★★)"
   ]
  },
  {
   "cell_type": "code",
   "execution_count": 81,
   "metadata": {},
   "outputs": [
    {
     "name": "stdout",
     "output_type": "stream",
     "text": [
      "Matrix A:\n",
      "[[0.1127419  0.34880341 0.33025644]\n",
      " [0.69177666 0.78768201 0.68058819]\n",
      " [0.55218196 0.4970533  0.05102543]]\n",
      "\n",
      "Matrix B:\n",
      "[[0.07469251 0.58630438 0.56566557]\n",
      " [0.67847454 0.82600419 0.89665662]\n",
      " [0.27713286 0.6820963  0.65633772]]\n",
      "\n",
      "Dot Product:\n",
      "[[0.33660012 0.57948084 0.59329085]\n",
      " [0.77470607 1.52044702 1.54429023]\n",
      " [0.39262268 0.76911906 0.79152637]]\n",
      "\n",
      "Diagonal of Dot Product:\n",
      "[0.33660012 1.52044702 0.79152637]\n"
     ]
    }
   ],
   "source": [
    "# Create two matrices A and B\n",
    "A = np.random.rand(3, 3)\n",
    "B = np.random.rand(3, 3)\n",
    "\n",
    "# Calculate the dot product of A and B\n",
    "dot_product = np.dot(A, B)\n",
    "\n",
    "# Get the diagonal of the dot product using einsum\n",
    "diagonal_dot_product = np.einsum('ii->i', dot_product)\n",
    "\n",
    "print(\"Matrix A:\")\n",
    "print(A)\n",
    "print(\"\\nMatrix B:\")\n",
    "print(B)\n",
    "print(\"\\nDot Product:\")\n",
    "print(dot_product)\n",
    "print(\"\\nDiagonal of Dot Product:\")\n",
    "print(diagonal_dot_product)"
   ]
  },
  {
   "cell_type": "markdown",
   "metadata": {},
   "source": [
    "# Question 70\n",
    "### Consider the vector [1, 2, 3, 4, 5], how to build a new vector with 3 consecutive zeros interleaved between each value? (★★★)"
   ]
  },
  {
   "cell_type": "code",
   "execution_count": 82,
   "metadata": {},
   "outputs": [
    {
     "name": "stdout",
     "output_type": "stream",
     "text": [
      "Original Vector: [1 2 3 4 5]\n",
      "New Vector with 3 consecutive zeros interleaved: [1 0 0 0 2 0 0 0 3 0 0 0 4 0 0 0 5]\n"
     ]
    }
   ],
   "source": [
    "\n",
    "# Given vector\n",
    "original_vector = np.array([1, 2, 3, 4, 5])\n",
    "\n",
    "# Build a new vector with 3 consecutive zeros interleaved\n",
    "new_vector = np.zeros(len(original_vector) + 3 * (len(original_vector) - 1), dtype=original_vector.dtype)\n",
    "new_vector[::4] = original_vector\n",
    "\n",
    "print(\"Original Vector:\", original_vector)\n",
    "print(\"New Vector with 3 consecutive zeros interleaved:\", new_vector)"
   ]
  },
  {
   "cell_type": "markdown",
   "metadata": {},
   "source": [
    "# Question 71\n",
    "### Consider an array of dimension (5,5,3), how to mulitply it by an array with dimensions (5,5)? (★★★)\n",
    "\n",
    "  "
   ]
  },
  {
   "cell_type": "code",
   "execution_count": 83,
   "metadata": {},
   "outputs": [
    {
     "name": "stdout",
     "output_type": "stream",
     "text": [
      "3D Array (shape 5x5x3):\n",
      "[[[0.96817332 0.27470522 0.39670343]\n",
      "  [0.13446907 0.70731857 0.4513829 ]\n",
      "  [0.76596938 0.10617746 0.65720457]\n",
      "  [0.59290651 0.94646977 0.69526207]\n",
      "  [0.10384674 0.40381731 0.09016572]]\n",
      "\n",
      " [[0.57133352 0.6707037  0.25024064]\n",
      "  [0.81531866 0.58743684 0.14470329]\n",
      "  [0.67025032 0.94163647 0.77958255]\n",
      "  [0.00453672 0.73985572 0.2336407 ]\n",
      "  [0.94608456 0.57418274 0.64867533]]\n",
      "\n",
      " [[0.41574066 0.71147519 0.87560415]\n",
      "  [0.76941709 0.70992571 0.4368751 ]\n",
      "  [0.78232989 0.15072934 0.0525128 ]\n",
      "  [0.68183456 0.89088231 0.57801771]\n",
      "  [0.34660451 0.39149766 0.48528799]]\n",
      "\n",
      " [[0.38181472 0.77360044 0.58208152]\n",
      "  [0.20251499 0.86519715 0.93258088]\n",
      "  [0.1393248  0.31358664 0.8368961 ]\n",
      "  [0.80188431 0.98543817 0.27309005]\n",
      "  [0.48493772 0.36312919 0.06069142]]\n",
      "\n",
      " [[0.96040641 0.44152281 0.05458934]\n",
      "  [0.71908243 0.43323966 0.65932596]\n",
      "  [0.75980635 0.54028674 0.29704486]\n",
      "  [0.22749051 0.04598895 0.15040152]\n",
      "  [0.44969917 0.16035609 0.6340647 ]]]\n",
      "\n",
      "2D Array (shape 5x5):\n",
      "[[0.41874734 0.32803311 0.0063561  0.18366802 0.31613871]\n",
      " [0.28101344 0.55273748 0.24465174 0.38597049 0.60850556]\n",
      " [0.9400159  0.61284951 0.88063422 0.53987219 0.66002626]\n",
      " [0.95241692 0.14710911 0.21656624 0.83978245 0.28460823]\n",
      " [0.02575881 0.72117899 0.81106828 0.65586025 0.79336722]]\n",
      "\n",
      "Result (shape 5x5x3) after element-wise multiplication:\n",
      "[[[4.05420006e-01 1.15032081e-01 1.66118510e-01]\n",
      "  [4.41103059e-02 2.32023909e-01 1.48068535e-01]\n",
      "  [4.86857495e-03 6.74874116e-04 4.17725538e-03]\n",
      "  [1.08897968e-01 1.73836234e-01 1.27697412e-01]\n",
      "  [3.28299747e-02 1.27662283e-01 2.85048733e-02]]\n",
      "\n",
      " [[1.60552399e-01 1.88476755e-01 7.03209833e-02]\n",
      "  [4.50657177e-01 3.24698359e-01 7.99829307e-02]\n",
      "  [1.63977909e-01 2.30373003e-01 1.90726230e-01]\n",
      "  [1.75104127e-03 2.85562479e-01 9.01784176e-02]\n",
      "  [5.75697715e-01 3.49393390e-01 3.94722542e-01]]\n",
      "\n",
      " [[3.90802834e-01 6.68797994e-01 8.23081825e-01]\n",
      "  [4.71536887e-01 4.35077627e-01 2.67738694e-01]\n",
      "  [6.88946471e-01 1.32737410e-01 4.62445657e-02]\n",
      "  [3.68103513e-01 4.80962580e-01 3.12055685e-01]\n",
      "  [2.28768081e-01 2.58398738e-01 3.20302821e-01]]\n",
      "\n",
      " [[3.63646801e-01 7.36790154e-01 5.54384290e-01]\n",
      "  [2.97918002e-02 1.27278383e-01 1.37191144e-01]\n",
      "  [3.01730493e-02 6.79122803e-02 1.81243444e-01]\n",
      "  [6.73408373e-01 8.27553682e-01 2.29336229e-01]\n",
      "  [1.38017268e-01 1.03349557e-01 1.72732778e-02]]\n",
      "\n",
      " [[2.47389255e-02 1.13731018e-02 1.40615632e-03]\n",
      "  [5.18587147e-01 3.12443339e-01 4.75492035e-01]\n",
      "  [6.16254827e-01 4.38209437e-01 2.40923663e-01]\n",
      "  [1.49201982e-01 3.01623232e-02 9.86423800e-02]\n",
      "  [3.56776584e-01 1.27221268e-01 5.03046154e-01]]]\n"
     ]
    }
   ],
   "source": [
    "# Create a 3D array with dimensions (5, 5, 3)\n",
    "array_3d = np.random.rand(5, 5, 3)\n",
    "\n",
    "# Create a 2D array with dimensions (5, 5)\n",
    "array_2d = np.random.rand(5, 5)\n",
    "\n",
    "# Multiply the arrays element-wise\n",
    "result = array_3d * array_2d[:, :, np.newaxis]\n",
    "\n",
    "print(\"3D Array (shape 5x5x3):\")\n",
    "print(array_3d)\n",
    "print(\"\\n2D Array (shape 5x5):\")\n",
    "print(array_2d)\n",
    "print(\"\\nResult (shape 5x5x3) after element-wise multiplication:\")\n",
    "print(result)"
   ]
  },
  {
   "cell_type": "markdown",
   "metadata": {},
   "source": [
    "# Question 72\n",
    "###  How to swap two rows of an array? (★★★)"
   ]
  },
  {
   "cell_type": "code",
   "execution_count": 84,
   "metadata": {},
   "outputs": [
    {
     "name": "stdout",
     "output_type": "stream",
     "text": [
      "Original Array:\n",
      "[[1 2 3]\n",
      " [7 8 9]\n",
      " [4 5 6]]\n"
     ]
    }
   ],
   "source": [
    "# Create a sample 2D array\n",
    "array_2d = np.array([[1, 2, 3],\n",
    "                     [4, 5, 6],\n",
    "                     [7, 8, 9]])\n",
    "\n",
    "# Swap rows 1 and 2 (0-indexed)\n",
    "array_2d[1], array_2d[2] = array_2d[2].copy(), array_2d[1].copy()\n",
    "\n",
    "print(\"Original Array:\")\n",
    "print(array_2d)"
   ]
  },
  {
   "cell_type": "markdown",
   "metadata": {},
   "source": [
    "# Question 73\n",
    "### Consider a set of 10 triplets describing 10 triangles (with shared vertices), find the set of unique line segments composing all the triangles (★★★)"
   ]
  },
  {
   "cell_type": "code",
   "execution_count": 85,
   "metadata": {},
   "outputs": [
    {
     "name": "stdout",
     "output_type": "stream",
     "text": [
      "Original Triangles (Vertices):\n",
      "[[[9 7]\n",
      "  [5 3]\n",
      "  [4 3]]\n",
      "\n",
      " [[1 3]\n",
      "  [1 5]\n",
      "  [3 1]]\n",
      "\n",
      " [[0 0]\n",
      "  [6 7]\n",
      "  [8 7]]\n",
      "\n",
      " [[8 6]\n",
      "  [2 7]\n",
      "  [1 5]]\n",
      "\n",
      " [[2 7]\n",
      "  [4 3]\n",
      "  [2 1]]\n",
      "\n",
      " [[1 9]\n",
      "  [2 6]\n",
      "  [0 5]]\n",
      "\n",
      " [[5 5]\n",
      "  [6 2]\n",
      "  [7 0]]\n",
      "\n",
      " [[6 1]\n",
      "  [4 4]\n",
      "  [6 7]]\n",
      "\n",
      " [[8 6]\n",
      "  [2 5]\n",
      "  [1 4]]\n",
      "\n",
      " [[5 9]\n",
      "  [5 4]\n",
      "  [1 4]]]\n",
      "\n",
      "Flattened Line Segments:\n",
      "[[9 7]\n",
      " [5 3]\n",
      " [4 3]\n",
      " [1 3]\n",
      " [1 5]\n",
      " [3 1]\n",
      " [0 0]\n",
      " [6 7]\n",
      " [8 7]\n",
      " [8 6]\n",
      " [2 7]\n",
      " [1 5]\n",
      " [2 7]\n",
      " [4 3]\n",
      " [2 1]\n",
      " [1 9]\n",
      " [2 6]\n",
      " [0 5]\n",
      " [5 5]\n",
      " [6 2]\n",
      " [7 0]\n",
      " [6 1]\n",
      " [4 4]\n",
      " [6 7]\n",
      " [8 6]\n",
      " [2 5]\n",
      " [1 4]\n",
      " [5 9]\n",
      " [5 4]\n",
      " [1 4]]\n",
      "\n",
      "Set of Unique Line Segments:\n",
      "{(4, 3), (3, 1), (5, 4), (8, 6), (0, 5), (2, 5), (1, 3), (1, 9), (6, 2), (5, 3), (5, 9), (9, 7), (2, 1), (2, 7), (1, 5), (6, 1), (7, 0), (6, 7), (4, 4), (5, 5), (0, 0), (8, 7), (1, 4), (2, 6)}\n"
     ]
    }
   ],
   "source": [
    "# Sample set of 10 triangles (each described by 3 vertices)\n",
    "triangles = np.random.randint(0, 10, size=(10, 3, 2))\n",
    "\n",
    "# Flatten the vertices and reshape to get line segments\n",
    "line_segments = triangles.reshape(-1, 2)\n",
    "\n",
    "# Convert line segments to tuples for unique set extraction\n",
    "line_segments_tuples = [tuple(segment) for segment in line_segments]\n",
    "\n",
    "# Get the set of unique line segments\n",
    "unique_line_segments = set(line_segments_tuples)\n",
    "\n",
    "print(\"Original Triangles (Vertices):\")\n",
    "print(triangles)\n",
    "print(\"\\nFlattened Line Segments:\")\n",
    "print(line_segments)\n",
    "print(\"\\nSet of Unique Line Segments:\")\n",
    "print(unique_line_segments)"
   ]
  },
  {
   "cell_type": "markdown",
   "metadata": {},
   "source": [
    "# Question 74\n",
    "### Given a sorted array C that corresponds to a bincount, how to produce an array A such that np.bincount(A) == C? (★★★)"
   ]
  },
  {
   "cell_type": "code",
   "execution_count": 86,
   "metadata": {},
   "outputs": [
    {
     "name": "stdout",
     "output_type": "stream",
     "text": [
      "Sorted Array C: [1 2 0 3 1 2]\n",
      "Generated Array A: [0 1 1 3 3 3 4 5 5]\n",
      "Bincount of A: [1 2 0 3 1 2]\n"
     ]
    }
   ],
   "source": [
    "def generate_array_from_bincount(C):\n",
    "    # Use np.repeat to generate array A\n",
    "    A = np.repeat(np.arange(len(C)), C)\n",
    "\n",
    "    return A\n",
    "\n",
    "C = np.array([1, 2, 0, 3, 1, 2])\n",
    "A = generate_array_from_bincount(C)\n",
    "\n",
    "print(\"Sorted Array C:\", C)\n",
    "print(\"Generated Array A:\", A)\n",
    "print(\"Bincount of A:\", np.bincount(A))"
   ]
  },
  {
   "cell_type": "markdown",
   "metadata": {},
   "source": [
    "# Question 75\n",
    "###  How to compute averages using a sliding window over an array? (★★★)"
   ]
  },
  {
   "cell_type": "code",
   "execution_count": 87,
   "metadata": {},
   "outputs": [
    {
     "name": "stdout",
     "output_type": "stream",
     "text": [
      "Original Array: [ 1  2  3  4  5  6  7  8  9 10]\n",
      "Averages using a sliding window of size 3: [2. 3. 4. 5. 6. 7. 8. 9.]\n"
     ]
    }
   ],
   "source": [
    "\n",
    "def sliding_window_average(arr, window_size):\n",
    "    # Create a kernel for the sliding window\n",
    "    kernel = np.ones(window_size) / window_size\n",
    "\n",
    "    # Use numpy.convolve to compute the sliding window average\n",
    "    averages = np.convolve(arr, kernel, mode='valid')\n",
    "\n",
    "    return averages\n",
    "\n",
    "arr = np.array([1, 2, 3, 4, 5, 6, 7, 8, 9, 10])\n",
    "window_size = 3\n",
    "\n",
    "result_averages = sliding_window_average(arr, window_size)\n",
    "\n",
    "print(\"Original Array:\", arr)\n",
    "print(f\"Averages using a sliding window of size {window_size}:\", result_averages)"
   ]
  },
  {
   "cell_type": "markdown",
   "metadata": {},
   "source": [
    "# Question 76\n",
    "####  Consider a one-dimensional array Z, build a two-dimensional array whose first row is (Z[0],Z[1],Z[2]) and each subsequent row is shifted by 1 (last row should be (Z[-3],Z[-2],Z[-1]) (★★★)"
   ]
  },
  {
   "cell_type": "code",
   "execution_count": 88,
   "metadata": {},
   "outputs": [
    {
     "name": "stdout",
     "output_type": "stream",
     "text": [
      "Original Array Z: [1 2 3 4 5 6 7 8 9]\n",
      "Resulting Shifted Matrix:\n",
      "[[1 2 3]\n",
      " [2 3 4]\n",
      " [3 4 5]\n",
      " [4 5 6]\n",
      " [5 6 7]\n",
      " [6 7 8]\n",
      " [7 8 9]]\n"
     ]
    }
   ],
   "source": [
    "def create_shifted_matrix(Z):\n",
    "    # Create a two-dimensional array by stacking shifted rows\n",
    "    result_matrix = np.vstack([Z[i:i+3] for i in range(len(Z) - 2)])\n",
    "\n",
    "    return result_matrix\n",
    "\n",
    "Z = np.array([1, 2, 3, 4, 5, 6, 7, 8, 9])\n",
    "result_matrix = create_shifted_matrix(Z)\n",
    "\n",
    "print(\"Original Array Z:\", Z)\n",
    "print(\"Resulting Shifted Matrix:\")\n",
    "print(result_matrix)"
   ]
  },
  {
   "cell_type": "markdown",
   "metadata": {},
   "source": [
    "# Question 77\n",
    " ###  How to negate a boolean, or to change the sign of a float inplace? (★★★)\n"
   ]
  },
  {
   "cell_type": "code",
   "execution_count": 89,
   "metadata": {},
   "outputs": [
    {
     "name": "stdout",
     "output_type": "stream",
     "text": [
      "Negated Boolean Array: [False  True False]\n",
      "Changed Sign Float Array: [-1.   2.5 -3.8]\n"
     ]
    }
   ],
   "source": [
    "# Negate a boolean array inplace\n",
    "boolean_array = np.array([True, False, True])\n",
    "boolean_array = ~boolean_array\n",
    "\n",
    "print(\"Negated Boolean Array:\", boolean_array)\n",
    "\n",
    "# Change the sign of a float array inplace\n",
    "float_array = np.array([1.0, -2.5, 3.8])\n",
    "float_array = -float_array\n",
    "\n",
    "print(\"Changed Sign Float Array:\", float_array)"
   ]
  },
  {
   "cell_type": "markdown",
   "metadata": {},
   "source": [
    "# Question 78\n",
    "### Consider 2 sets of points P0,P1 describing lines (2d) and a point p, how to compute distance from p to each line i (P0[i],P1[i])? (★★★)\n"
   ]
  },
  {
   "cell_type": "code",
   "execution_count": 90,
   "metadata": {},
   "outputs": [
    {
     "name": "stdout",
     "output_type": "stream",
     "text": [
      "Distances to Lines: [0.         0.         1.41421356]\n"
     ]
    }
   ],
   "source": [
    "def distance_to_lines(p, P0, P1):\n",
    "    # Convert points to NumPy arrays\n",
    "    p = np.array(p)\n",
    "    P0 = np.array(P0)\n",
    "    P1 = np.array(P1)\n",
    "\n",
    "    # Vector representing the line segments\n",
    "    v = P1 - P0\n",
    "\n",
    "    # Vector from P0 to p\n",
    "    w = p - P0\n",
    "\n",
    "    # Dot product along axis 1\n",
    "    c1 = np.sum(w * v, axis=1)\n",
    "\n",
    "    # Dot product along axis 1\n",
    "    c2 = np.sum(v * v, axis=1)\n",
    "\n",
    "    # Projection parameter\n",
    "    b = c1 / c2\n",
    "\n",
    "    # Clip b to be in the range [0, 1]\n",
    "    b = np.clip(b, 0, 1)\n",
    "\n",
    "    # Closest point on the line to the given point p\n",
    "    closest_point = P0 + b[:, np.newaxis] * v\n",
    "\n",
    "    # Compute the distance between p and the closest point on the line\n",
    "    distance = np.linalg.norm(p - closest_point, axis=1)\n",
    "\n",
    "    return distance\n",
    "\n",
    "p = [1, 1]\n",
    "P0 = [[0, 0], [1, 1], [2, 2]]\n",
    "P1 = [[1, 1], [2, 2], [3, 3]]\n",
    "\n",
    "distances = distance_to_lines(p, P0, P1)\n",
    "print(\"Distances to Lines:\", distances)"
   ]
  },
  {
   "cell_type": "markdown",
   "metadata": {},
   "source": [
    "# Question 79\n",
    "#### Consider 2 sets of points P0,P1 describing lines (2d) and a set of points P, how to compute distance from each point j (P[j]) to each line i (P0[i],P1[i])? (★★★)\n",
    "   "
   ]
  },
  {
   "cell_type": "code",
   "execution_count": 91,
   "metadata": {},
   "outputs": [
    {
     "name": "stdout",
     "output_type": "stream",
     "text": [
      "Distances to Lines:\n",
      "[[0.         0.         1.41421356]\n",
      " [2.23606798 1.         0.70710678]\n",
      " [4.12310563 3.         2.23606798]]\n"
     ]
    }
   ],
   "source": [
    "def distance_to_lines_set(P, P0, P1):\n",
    "    # Convert points to NumPy arrays\n",
    "    P = np.array(P)\n",
    "    P0 = np.array(P0)\n",
    "    P1 = np.array(P1)\n",
    "\n",
    "    # Vector representing the line segments\n",
    "    v = P1 - P0\n",
    "\n",
    "    # Vector from P0 to P\n",
    "    w = P[:, np.newaxis, :] - P0\n",
    "\n",
    "    # Dot product along axis 2\n",
    "    c1 = np.sum(w * v, axis=2)\n",
    "\n",
    "    # Dot product along axis 2\n",
    "    c2 = np.sum(v * v, axis=1)\n",
    "\n",
    "    # Projection parameter\n",
    "    b = c1 / c2\n",
    "\n",
    "    # Clip b to be in the range [0, 1]\n",
    "    b = np.clip(b, 0, 1)\n",
    "\n",
    "    # Closest point on the line to each given point P\n",
    "    closest_point = P0 + b[:, :, np.newaxis] * v\n",
    "\n",
    "    # Compute the distance between each point in P and the closest point on the line\n",
    "    distance = np.linalg.norm(P[:, np.newaxis, :] - closest_point, axis=2)\n",
    "\n",
    "    return distance\n",
    "\n",
    "P = [[1, 1], [3, 2], [2, 5]]\n",
    "P0 = [[0, 0], [1, 1], [2, 2]]\n",
    "P1 = [[1, 1], [2, 2], [3, 3]]\n",
    "\n",
    "distances = distance_to_lines_set(P, P0, P1)\n",
    "print(\"Distances to Lines:\")\n",
    "print(distances)"
   ]
  },
  {
   "cell_type": "markdown",
   "metadata": {},
   "source": [
    "# Question 80\n",
    "### Consider an arbitrary array, write a function that extract a subpart with a fixed shape and centered on a given element (pad with a fill value when necessary) (★★★)\n",
    "   "
   ]
  },
  {
   "cell_type": "code",
   "execution_count": 92,
   "metadata": {},
   "outputs": [
    {
     "name": "stdout",
     "output_type": "stream",
     "text": [
      "Original Array:\n",
      "[[ 1  2  3  4  5]\n",
      " [ 6  7  8  9 10]\n",
      " [11 12 13 14 15]]\n",
      "\n",
      "Extracted Subpart:\n",
      "[[0 0 0 0]\n",
      " [0 0 0 0]\n",
      " [0 0 0 0]\n",
      " [0 0 0 0]\n",
      " [0 0 0 0]]\n"
     ]
    }
   ],
   "source": [
    "def extract_subpart(array, center, shape, fill_value=0):\n",
    "    array = np.array(array)\n",
    "    center = np.array(center)\n",
    "    shape = np.array(shape)\n",
    "\n",
    "    start_index = np.maximum(center - shape // 2, 0)\n",
    "    end_index = start_index + shape\n",
    "\n",
    "    pad_start = np.maximum(0, shape // 2 - center)\n",
    "    pad_end = np.maximum(0, center + shape // 2 - array.shape)\n",
    "\n",
    "    subpart = np.pad(\n",
    "        array[start_index[0]:end_index[0], start_index[1]:end_index[1]],\n",
    "        ((pad_start[0], pad_end[0]), (pad_start[1], pad_end[1])),\n",
    "        mode='constant',\n",
    "        constant_values=fill_value\n",
    "    )\n",
    "\n",
    "    return subpart\n",
    "\n",
    "array = np.array([[1, 2, 3, 4, 5],\n",
    "                  [6, 7, 8, 9, 10],\n",
    "                  [11, 12, 13, 14, 15]])\n",
    "\n",
    "center_element = [7, 8]\n",
    "subpart_shape = [3, 3]\n",
    "\n",
    "result = extract_subpart(array, center_element, subpart_shape, fill_value=0)\n",
    "print(\"Original Array:\")\n",
    "print(array)\n",
    "print(\"\\nExtracted Subpart:\")\n",
    "print(result)"
   ]
  },
  {
   "cell_type": "markdown",
   "metadata": {},
   "source": [
    "# Question 81\n",
    " ###  Consider an array Z = [1,2,3,4,5,6,7,8,9,10,11,12,13,14], how to generate an array R = [[1,2,3,4], [2,3,4,5], [3,4,5,6], ..., [11,12,13,14]]? (★★★)\n"
   ]
  },
  {
   "cell_type": "code",
   "execution_count": 93,
   "metadata": {},
   "outputs": [
    {
     "name": "stdout",
     "output_type": "stream",
     "text": [
      "[[ 1  2  3  4]\n",
      " [ 2  3  4  5]\n",
      " [ 3  4  5  6]\n",
      " [ 4  5  6  7]\n",
      " [ 5  6  7  8]\n",
      " [ 6  7  8  9]\n",
      " [ 7  8  9 10]\n",
      " [ 8  9 10 11]\n",
      " [ 9 10 11 12]\n",
      " [10 11 12 13]\n",
      " [11 12 13 14]]\n"
     ]
    }
   ],
   "source": [
    "def generate_subarrays(Z, window_size):\n",
    "    shape = (len(Z) - window_size + 1, window_size)\n",
    "    strides = (Z.itemsize, Z.itemsize)\n",
    "\n",
    "    R = np.lib.stride_tricks.as_strided(Z, shape=shape, strides=strides)\n",
    "\n",
    "    return R\n",
    "\n",
    "Z = np.array([1, 2, 3, 4, 5, 6, 7, 8, 9, 10, 11, 12, 13, 14])\n",
    "window_size = 4\n",
    "\n",
    "R = generate_subarrays(Z, window_size)\n",
    "print(R)"
   ]
  },
  {
   "cell_type": "markdown",
   "metadata": {},
   "source": [
    "# Question 82\n",
    "### Compute a matrix rank (★★★)\n",
    "    "
   ]
  },
  {
   "cell_type": "code",
   "execution_count": 94,
   "metadata": {},
   "outputs": [
    {
     "name": "stdout",
     "output_type": "stream",
     "text": [
      "Matrix:\n",
      "[[1 2 3]\n",
      " [4 5 6]\n",
      " [7 8 9]]\n",
      "\n",
      "Rank of the matrix: 2\n"
     ]
    }
   ],
   "source": [
    "matrix = np.array([[1, 2, 3],\n",
    "                   [4, 5, 6],\n",
    "                   [7, 8, 9]])\n",
    "\n",
    "# Compute matrix rank\n",
    "rank = np.linalg.matrix_rank(matrix)\n",
    "\n",
    "print(\"Matrix:\")\n",
    "print(matrix)\n",
    "print(\"\\nRank of the matrix:\", rank)"
   ]
  },
  {
   "cell_type": "markdown",
   "metadata": {},
   "source": [
    "# Question 83\n",
    " ### How to find the most frequent value in an array?\n"
   ]
  },
  {
   "cell_type": "code",
   "execution_count": 97,
   "metadata": {},
   "outputs": [
    {
     "name": "stdout",
     "output_type": "stream",
     "text": [
      "Array: [1 2 3 4 2 4 3 3 1 4 4 5]\n",
      "Most Frequent Value: 4\n"
     ]
    }
   ],
   "source": [
    "arr = np.array([1, 2, 3, 4, 2, 4, 3, 3, 1, 4, 4, 5])\n",
    "\n",
    "# Find the most frequent value\n",
    "most_frequent_value = np.argmax(np.bincount(arr))\n",
    "\n",
    "print(\"Array:\", arr)\n",
    "print(\"Most Frequent Value:\", most_frequent_value)"
   ]
  },
  {
   "cell_type": "markdown",
   "metadata": {},
   "source": [
    "# Question 84\n",
    "### Extract all the contiguous 3x3 blocks from a random 10x10 matrix (★★★)\n",
    " "
   ]
  },
  {
   "cell_type": "code",
   "execution_count": 98,
   "metadata": {},
   "outputs": [
    {
     "name": "stdout",
     "output_type": "stream",
     "text": [
      "Original Matrix:\n",
      "[[0 4 4 5 1 0 0 5 7 7]\n",
      " [1 9 8 7 6 7 8 2 9 4]\n",
      " [9 7 2 5 6 9 9 2 3 6]\n",
      " [7 1 6 6 4 1 4 9 2 1]\n",
      " [1 7 9 1 7 1 0 4 3 0]\n",
      " [3 0 0 9 6 3 2 3 0 5]\n",
      " [0 2 7 8 8 4 5 9 9 9]\n",
      " [8 2 9 7 4 8 7 9 5 1]\n",
      " [7 0 7 1 3 2 7 8 7 1]\n",
      " [4 6 5 6 8 6 4 9 6 3]]\n",
      "\n",
      "Extracted 3x3 Blocks:\n",
      "[[0 4 4]\n",
      " [1 9 8]\n",
      " [9 7 2]]\n",
      "\n",
      "[[4 4 5]\n",
      " [9 8 7]\n",
      " [7 2 5]]\n",
      "\n",
      "[[4 5 1]\n",
      " [8 7 6]\n",
      " [2 5 6]]\n",
      "\n",
      "[[5 1 0]\n",
      " [7 6 7]\n",
      " [5 6 9]]\n",
      "\n",
      "[[1 0 0]\n",
      " [6 7 8]\n",
      " [6 9 9]]\n",
      "\n",
      "[[0 0 5]\n",
      " [7 8 2]\n",
      " [9 9 2]]\n",
      "\n",
      "[[0 5 7]\n",
      " [8 2 9]\n",
      " [9 2 3]]\n",
      "\n",
      "[[5 7 7]\n",
      " [2 9 4]\n",
      " [2 3 6]]\n",
      "\n",
      "[[1 9 8]\n",
      " [9 7 2]\n",
      " [7 1 6]]\n",
      "\n",
      "[[9 8 7]\n",
      " [7 2 5]\n",
      " [1 6 6]]\n",
      "\n",
      "[[8 7 6]\n",
      " [2 5 6]\n",
      " [6 6 4]]\n",
      "\n",
      "[[7 6 7]\n",
      " [5 6 9]\n",
      " [6 4 1]]\n",
      "\n",
      "[[6 7 8]\n",
      " [6 9 9]\n",
      " [4 1 4]]\n",
      "\n",
      "[[7 8 2]\n",
      " [9 9 2]\n",
      " [1 4 9]]\n",
      "\n",
      "[[8 2 9]\n",
      " [9 2 3]\n",
      " [4 9 2]]\n",
      "\n",
      "[[2 9 4]\n",
      " [2 3 6]\n",
      " [9 2 1]]\n",
      "\n",
      "[[9 7 2]\n",
      " [7 1 6]\n",
      " [1 7 9]]\n",
      "\n",
      "[[7 2 5]\n",
      " [1 6 6]\n",
      " [7 9 1]]\n",
      "\n",
      "[[2 5 6]\n",
      " [6 6 4]\n",
      " [9 1 7]]\n",
      "\n",
      "[[5 6 9]\n",
      " [6 4 1]\n",
      " [1 7 1]]\n",
      "\n",
      "[[6 9 9]\n",
      " [4 1 4]\n",
      " [7 1 0]]\n",
      "\n",
      "[[9 9 2]\n",
      " [1 4 9]\n",
      " [1 0 4]]\n",
      "\n",
      "[[9 2 3]\n",
      " [4 9 2]\n",
      " [0 4 3]]\n",
      "\n",
      "[[2 3 6]\n",
      " [9 2 1]\n",
      " [4 3 0]]\n",
      "\n",
      "[[7 1 6]\n",
      " [1 7 9]\n",
      " [3 0 0]]\n",
      "\n",
      "[[1 6 6]\n",
      " [7 9 1]\n",
      " [0 0 9]]\n",
      "\n",
      "[[6 6 4]\n",
      " [9 1 7]\n",
      " [0 9 6]]\n",
      "\n",
      "[[6 4 1]\n",
      " [1 7 1]\n",
      " [9 6 3]]\n",
      "\n",
      "[[4 1 4]\n",
      " [7 1 0]\n",
      " [6 3 2]]\n",
      "\n",
      "[[1 4 9]\n",
      " [1 0 4]\n",
      " [3 2 3]]\n",
      "\n",
      "[[4 9 2]\n",
      " [0 4 3]\n",
      " [2 3 0]]\n",
      "\n",
      "[[9 2 1]\n",
      " [4 3 0]\n",
      " [3 0 5]]\n",
      "\n",
      "[[1 7 9]\n",
      " [3 0 0]\n",
      " [0 2 7]]\n",
      "\n",
      "[[7 9 1]\n",
      " [0 0 9]\n",
      " [2 7 8]]\n",
      "\n",
      "[[9 1 7]\n",
      " [0 9 6]\n",
      " [7 8 8]]\n",
      "\n",
      "[[1 7 1]\n",
      " [9 6 3]\n",
      " [8 8 4]]\n",
      "\n",
      "[[7 1 0]\n",
      " [6 3 2]\n",
      " [8 4 5]]\n",
      "\n",
      "[[1 0 4]\n",
      " [3 2 3]\n",
      " [4 5 9]]\n",
      "\n",
      "[[0 4 3]\n",
      " [2 3 0]\n",
      " [5 9 9]]\n",
      "\n",
      "[[4 3 0]\n",
      " [3 0 5]\n",
      " [9 9 9]]\n",
      "\n",
      "[[3 0 0]\n",
      " [0 2 7]\n",
      " [8 2 9]]\n",
      "\n",
      "[[0 0 9]\n",
      " [2 7 8]\n",
      " [2 9 7]]\n",
      "\n",
      "[[0 9 6]\n",
      " [7 8 8]\n",
      " [9 7 4]]\n",
      "\n",
      "[[9 6 3]\n",
      " [8 8 4]\n",
      " [7 4 8]]\n",
      "\n",
      "[[6 3 2]\n",
      " [8 4 5]\n",
      " [4 8 7]]\n",
      "\n",
      "[[3 2 3]\n",
      " [4 5 9]\n",
      " [8 7 9]]\n",
      "\n",
      "[[2 3 0]\n",
      " [5 9 9]\n",
      " [7 9 5]]\n",
      "\n",
      "[[3 0 5]\n",
      " [9 9 9]\n",
      " [9 5 1]]\n",
      "\n",
      "[[0 2 7]\n",
      " [8 2 9]\n",
      " [7 0 7]]\n",
      "\n",
      "[[2 7 8]\n",
      " [2 9 7]\n",
      " [0 7 1]]\n",
      "\n",
      "[[7 8 8]\n",
      " [9 7 4]\n",
      " [7 1 3]]\n",
      "\n",
      "[[8 8 4]\n",
      " [7 4 8]\n",
      " [1 3 2]]\n",
      "\n",
      "[[8 4 5]\n",
      " [4 8 7]\n",
      " [3 2 7]]\n",
      "\n",
      "[[4 5 9]\n",
      " [8 7 9]\n",
      " [2 7 8]]\n",
      "\n",
      "[[5 9 9]\n",
      " [7 9 5]\n",
      " [7 8 7]]\n",
      "\n",
      "[[9 9 9]\n",
      " [9 5 1]\n",
      " [8 7 1]]\n",
      "\n",
      "[[8 2 9]\n",
      " [7 0 7]\n",
      " [4 6 5]]\n",
      "\n",
      "[[2 9 7]\n",
      " [0 7 1]\n",
      " [6 5 6]]\n",
      "\n",
      "[[9 7 4]\n",
      " [7 1 3]\n",
      " [5 6 8]]\n",
      "\n",
      "[[7 4 8]\n",
      " [1 3 2]\n",
      " [6 8 6]]\n",
      "\n",
      "[[4 8 7]\n",
      " [3 2 7]\n",
      " [8 6 4]]\n",
      "\n",
      "[[8 7 9]\n",
      " [2 7 8]\n",
      " [6 4 9]]\n",
      "\n",
      "[[7 9 5]\n",
      " [7 8 7]\n",
      " [4 9 6]]\n",
      "\n",
      "[[9 5 1]\n",
      " [8 7 1]\n",
      " [9 6 3]]\n",
      "\n"
     ]
    }
   ],
   "source": [
    "# Create a random 10x10 matrix\n",
    "matrix = np.random.randint(0, 10, size=(10, 10))\n",
    "\n",
    "# Size of the blocks\n",
    "block_size = 3\n",
    "\n",
    "# Extract contiguous 3x3 blocks\n",
    "blocks = [matrix[i:i+block_size, j:j+block_size] for i in range(8) for j in range(8)]\n",
    "\n",
    "# Print the original matrix and the extracted blocks\n",
    "print(\"Original Matrix:\")\n",
    "print(matrix)\n",
    "print(\"\\nExtracted 3x3 Blocks:\")\n",
    "for block in blocks:\n",
    "    print(block)\n",
    "    print()"
   ]
  },
  {
   "cell_type": "markdown",
   "metadata": {},
   "source": [
    "# Question 85\n",
    " ### Create a 2D array subclass such that Z[i,j] == Z[j,i] (★★★)"
   ]
  },
  {
   "cell_type": "code",
   "execution_count": 99,
   "metadata": {},
   "outputs": [
    {
     "name": "stdout",
     "output_type": "stream",
     "text": [
      "Original Array:\n",
      "[[8 8 8]\n",
      " [4 5 7]\n",
      " [1 5 8]]\n",
      "\n",
      "Symmetric Array:\n",
      "[[8 8 8]\n",
      " [4 5 7]\n",
      " [1 5 8]]\n",
      "\n",
      "Is Symmetric: False\n"
     ]
    }
   ],
   "source": [
    "class SymmetricArray(np.ndarray):\n",
    "    def __new__(cls, input_array):\n",
    "        obj = np.asarray(input_array).view(cls)\n",
    "        return obj\n",
    "\n",
    "    def __getitem__(self, index):\n",
    "        i, j = index\n",
    "        return super().__getitem__((i, j))\n",
    "\n",
    "    def __setitem__(self, index, value):\n",
    "        i, j = index\n",
    "        super().__setitem__((i, j), value)\n",
    "        super().__setitem__((j, i), value)\n",
    "\n",
    "original_array = np.random.randint(0, 10, size=(3, 3))\n",
    "symmetric_array = SymmetricArray(original_array)\n",
    "\n",
    "print(\"Original Array:\")\n",
    "print(original_array)\n",
    "print(\"\\nSymmetric Array:\")\n",
    "print(symmetric_array)\n",
    "\n",
    "# Verify symmetry\n",
    "print(\"\\nIs Symmetric:\", np.all(symmetric_array == symmetric_array.T))"
   ]
  },
  {
   "cell_type": "markdown",
   "metadata": {},
   "source": [
    "# Question 86\n",
    "### Consider a set of p matrices with shape (n,n) and a set of p vectors with shape (n,1). How to compute the sum of of the p matrix products at once? (result has shape (n,1)) (★★★)"
   ]
  },
  {
   "cell_type": "code",
   "execution_count": 101,
   "metadata": {},
   "outputs": [
    {
     "name": "stdout",
     "output_type": "stream",
     "text": [
      "Result:\n",
      "[[[ 64  76  52]\n",
      "  [100 114  86]]\n",
      "\n",
      " [[ 32  36  28]\n",
      "  [ 44  58  30]]\n",
      "\n",
      " [[ 52  70  34]\n",
      "  [ 60  78  42]]]\n"
     ]
    }
   ],
   "source": [
    "def sum_of_matrix_products(matrices, vectors):\n",
    "    # Reshape vectors to have shape (n, p)\n",
    "    vectors_reshaped = vectors.reshape(vectors.shape[0], -1)\n",
    "    \n",
    "    # Perform matrix multiplication and sum across the last axis\n",
    "    result = np.tensordot(matrices, vectors_reshaped, axes=((2), (0)))\n",
    "    \n",
    "    return result\n",
    "\n",
    "p = 3  # Number of matrices and vectors\n",
    "n = 2  # Size of the square matrices and vectors\n",
    "\n",
    "# Generate sample matrices and vectors\n",
    "matrices = np.random.randint(1, 10, size=(p, n, n))\n",
    "vectors = np.random.randint(1, 10, size=(n, p, 1))\n",
    "\n",
    "# Compute the sum of the p matrix products at once\n",
    "result = sum_of_matrix_products(matrices, vectors)\n",
    "\n",
    "print(\"Result:\")\n",
    "print(result)"
   ]
  },
  {
   "cell_type": "markdown",
   "metadata": {},
   "source": [
    "# Question 87\n",
    "### Consider a 16x16 array, how to get the block-sum (block size is 4x4)? (★★★)\n"
   ]
  },
  {
   "cell_type": "code",
   "execution_count": 102,
   "metadata": {},
   "outputs": [
    {
     "name": "stdout",
     "output_type": "stream",
     "text": [
      "Original 16x16 Array:\n",
      "[[9 2 6 1 7 7 3 2 8 2 8 5 7 6 9 9]\n",
      " [5 1 6 1 2 1 3 6 8 3 4 8 8 7 7 3]\n",
      " [8 8 2 5 6 4 7 8 2 9 2 2 5 2 1 3]\n",
      " [1 2 3 7 5 5 4 4 4 8 2 2 7 5 6 4]\n",
      " [1 7 6 1 2 9 1 7 8 9 1 6 4 7 4 7]\n",
      " [3 6 9 2 4 4 2 2 6 6 8 8 6 8 7 1]\n",
      " [3 3 6 6 6 8 8 3 1 7 4 8 7 8 5 3]\n",
      " [5 2 4 3 2 5 7 7 4 5 5 3 5 9 2 1]\n",
      " [1 7 2 5 9 3 9 8 2 9 8 4 7 2 7 4]\n",
      " [8 1 3 6 3 5 7 6 4 3 6 5 7 3 1 2]\n",
      " [4 3 9 5 5 6 9 4 7 3 7 3 9 5 2 9]\n",
      " [4 1 1 9 3 8 3 7 8 3 5 6 7 2 7 6]\n",
      " [8 7 2 3 9 9 7 5 2 8 4 4 6 2 1 4]\n",
      " [1 1 3 7 3 8 1 9 3 1 3 7 4 1 2 3]\n",
      " [2 6 1 3 2 7 8 3 9 1 6 9 6 1 1 2]\n",
      " [3 6 5 4 8 9 4 2 6 9 9 8 3 9 5 5]]\n",
      "\n",
      "Block-Sum (4x4 blocks):\n",
      "[[67 74 77 89]\n",
      " [67 77 89 84]\n",
      " [69 95 83 80]\n",
      " [62 94 89 55]]\n"
     ]
    }
   ],
   "source": [
    "array_16x16 = np.random.randint(1, 10, size=(16, 16))\n",
    "\n",
    "# Define the block size\n",
    "block_size = 4\n",
    "\n",
    "# Reshape and sum along specified axes to get the block-sum\n",
    "block_sum = np.sum(array_16x16.reshape(4, 4, 4, 4), axis=(1, 3))\n",
    "\n",
    "print(\"Original 16x16 Array:\")\n",
    "print(array_16x16)\n",
    "print(\"\\nBlock-Sum (4x4 blocks):\")\n",
    "print(block_sum)"
   ]
  },
  {
   "cell_type": "markdown",
   "metadata": {},
   "source": [
    "# Question 88\n",
    "### How to implement the Game of Life using numpy arrays? (★★★)\n"
   ]
  },
  {
   "cell_type": "code",
   "execution_count": 103,
   "metadata": {},
   "outputs": [
    {
     "name": "stderr",
     "output_type": "stream",
     "text": [
      "C:\\Users\\IBRAHIM UMAR FARUK\\AppData\\Local\\Temp\\ipykernel_9280\\3386028063.py:41: UserWarning: You passed in an explicit save_count=50 which is being ignored in favor of frames=10.\n",
      "  ani = animation.FuncAnimation(fig, update, fargs=(img, grid, N),\n"
     ]
    },
    {
     "data": {
      "image/png": "[encoded data removed]",
      "text/plain": [
       "<Figure size 640x480 with 1 Axes>"
      ]
     },
     "metadata": {},
     "output_type": "display_data"
    }
   ],
   "source": [
    "import numpy as np\n",
    "import matplotlib.pyplot as plt\n",
    "import matplotlib.animation as animation\n",
    "\n",
    "def update(frameNum, img, grid, N):\n",
    "    # Copy the grid to apply the rules without modifying the original grid\n",
    "    newGrid = grid.copy()\n",
    "    for i in range(N):\n",
    "        for j in range(N):\n",
    "            # Compute the sum of the eight neighbors\n",
    "            total = int((grid[i, (j-1)%N] + grid[i, (j+1)%N] +\n",
    "                         grid[(i-1)%N, j] + grid[(i+1)%N, j] +\n",
    "                         grid[(i-1)%N, (j-1)%N] + grid[(i-1)%N, (j+1)%N] +\n",
    "                         grid[(i+1)%N, (j-1)%N] + grid[(i+1)%N, (j+1)%N]) / 255)\n",
    "\n",
    "            # Apply the rules of the Game of Life\n",
    "            if grid[i, j] == ON:\n",
    "                if (total < 2) or (total > 3):\n",
    "                    newGrid[i, j] = OFF\n",
    "            else:\n",
    "                if total == 3:\n",
    "                    newGrid[i, j] = ON\n",
    "\n",
    "    # Update the data of the plot\n",
    "    img.set_data(newGrid)\n",
    "    grid[:] = newGrid[:]\n",
    "    return img\n",
    "\n",
    "# Constants\n",
    "ON = 255\n",
    "OFF = 0\n",
    "N = 100  # Grid size\n",
    "updateInterval = 50  # Milliseconds\n",
    "\n",
    "# Create a random initial state\n",
    "grid = np.random.choice([ON, OFF], N*N, p=[0.2, 0.8]).reshape(N, N)\n",
    "\n",
    "# Set up the plot\n",
    "fig, ax = plt.subplots()\n",
    "img = ax.imshow(grid, interpolation='nearest')\n",
    "ani = animation.FuncAnimation(fig, update, fargs=(img, grid, N),\n",
    "                              frames=10, interval=updateInterval, save_count=50)\n",
    "\n",
    "plt.show()"
   ]
  },
  {
   "cell_type": "markdown",
   "metadata": {},
   "source": [
    "# Question 89\n",
    "### How to get the n largest values of an array (★★★)\n"
   ]
  },
  {
   "cell_type": "code",
   "execution_count": 104,
   "metadata": {},
   "outputs": [
    {
     "name": "stdout",
     "output_type": "stream",
     "text": [
      "The 2 largest values are: [8 9]\n"
     ]
    }
   ],
   "source": [
    "# Create an example array\n",
    "arr = np.array([4, 2, 8, 5, 1, 9, 7, 3, 6])\n",
    "\n",
    "# Get the indices of the n largest values\n",
    "n_largest_indices = np.argsort(arr)[-n:]\n",
    "\n",
    "# Get the n largest values using the indices\n",
    "n_largest_values = arr[n_largest_indices]\n",
    "\n",
    "print(f\"The {n} largest values are: {n_largest_values}\")"
   ]
  },
  {
   "cell_type": "markdown",
   "metadata": {},
   "source": [
    "# Question 90\n",
    "### Given an arbitrary number of vectors, build the cartesian product (every combinations of every item) (★★★)\n"
   ]
  },
  {
   "cell_type": "code",
   "execution_count": 105,
   "metadata": {},
   "outputs": [
    {
     "name": "stdout",
     "output_type": "stream",
     "text": [
      "Cartesian Product:\n",
      "[['1' 'a' '0.1']\n",
      " ['1' 'b' '0.1']\n",
      " ['1' 'c' '0.1']\n",
      " ['2' 'a' '0.1']\n",
      " ['2' 'b' '0.1']\n",
      " ['2' 'c' '0.1']\n",
      " ['3' 'a' '0.1']\n",
      " ['3' 'b' '0.1']\n",
      " ['3' 'c' '0.1']\n",
      " ['1' 'a' '0.2']\n",
      " ['1' 'b' '0.2']\n",
      " ['1' 'c' '0.2']\n",
      " ['2' 'a' '0.2']\n",
      " ['2' 'b' '0.2']\n",
      " ['2' 'c' '0.2']\n",
      " ['3' 'a' '0.2']\n",
      " ['3' 'b' '0.2']\n",
      " ['3' 'c' '0.2']]\n"
     ]
    }
   ],
   "source": [
    "vectors = [\n",
    "    np.array([1, 2, 3]),\n",
    "    np.array(['a', 'b', 'c']),\n",
    "    np.array([0.1, 0.2])\n",
    "]\n",
    "\n",
    "# Use numpy.meshgrid to get the Cartesian product\n",
    "cartesian_product = np.array(np.meshgrid(*vectors)).T.reshape(-1, len(vectors))\n",
    "\n",
    "print(\"Cartesian Product:\")\n",
    "print(cartesian_product)"
   ]
  },
  {
   "cell_type": "markdown",
   "metadata": {},
   "source": [
    "# Question 91\n",
    "### How to create a record array from a regular array? (★★★)\n"
   ]
  },
  {
   "cell_type": "code",
   "execution_count": 106,
   "metadata": {},
   "outputs": [
    {
     "name": "stdout",
     "output_type": "stream",
     "text": [
      "Regular Array:\n",
      "[(1, 'John', 25) (2, 'Alice', 30) (3, 'Bob', 22)]\n",
      "\n",
      "Record Array:\n",
      "[(1, 'John', 25) (2, 'Alice', 30) (3, 'Bob', 22)]\n"
     ]
    }
   ],
   "source": [
    "\n",
    "regular_array = np.array([(1, 'John', 25),\n",
    "                          (2, 'Alice', 30),\n",
    "                          (3, 'Bob', 22)],\n",
    "                         dtype=[('id', int), ('name', 'U10'), ('age', int)])\n",
    "\n",
    "# Create a record array\n",
    "record_array = np.core.records.array(regular_array)\n",
    "\n",
    "print(\"Regular Array:\")\n",
    "print(regular_array)\n",
    "\n",
    "print(\"\\nRecord Array:\")\n",
    "print(record_array)"
   ]
  },
  {
   "cell_type": "markdown",
   "metadata": {},
   "source": [
    "# Question 92\n",
    "### Consider a large vector Z, compute Z to the power of 3 using 3 different methods (★★★)\n"
   ]
  },
  {
   "cell_type": "code",
   "execution_count": 107,
   "metadata": {},
   "outputs": [
    {
     "data": {
      "text/plain": [
       "array([0.00517546, 0.10782623, 0.47026503, ..., 0.46545805, 0.12484236,\n",
       "       0.91973071])"
      ]
     },
     "execution_count": 107,
     "metadata": {},
     "output_type": "execute_result"
    }
   ],
   "source": [
    "# Create a large vector Z\n",
    "Z = np.random.rand(1000000)\n",
    "\n",
    "# Method 1: Using np.power\n",
    "result_method_1 = np.power(Z, 3)\n",
    "result_method_1"
   ]
  },
  {
   "cell_type": "code",
   "execution_count": 108,
   "metadata": {},
   "outputs": [
    {
     "data": {
      "text/plain": [
       "array([0.00517546, 0.10782623, 0.47026503, ..., 0.46545805, 0.12484236,\n",
       "       0.91973071])"
      ]
     },
     "execution_count": 108,
     "metadata": {},
     "output_type": "execute_result"
    }
   ],
   "source": [
    "# Method 2: Using the ** operator\n",
    "result_method_2 = Z ** 3\n",
    "result_method_2"
   ]
  },
  {
   "cell_type": "code",
   "execution_count": 109,
   "metadata": {},
   "outputs": [
    {
     "data": {
      "text/plain": [
       "array([0.00517546, 0.10782623, 0.47026503, ..., 0.46545805, 0.12484236,\n",
       "       0.91973071])"
      ]
     },
     "execution_count": 109,
     "metadata": {},
     "output_type": "execute_result"
    }
   ],
   "source": [
    "# Method 3: Using np.multiply\n",
    "result_method_3 = np.multiply(Z, np.multiply(Z, Z))\n",
    "result_method_3"
   ]
  },
  {
   "cell_type": "markdown",
   "metadata": {},
   "source": [
    "# Question 93\n",
    "### Consider two arrays A and B of shape (8,3) and (2,2). How to find rows of A that contain elements of each row of B regardless of the order of the elements in B? (★★★)\n"
   ]
  },
  {
   "cell_type": "code",
   "execution_count": 110,
   "metadata": {},
   "outputs": [
    {
     "name": "stdout",
     "output_type": "stream",
     "text": [
      "Array A:\n",
      "[[0 6 2]\n",
      " [5 5 9]\n",
      " [6 1 0]\n",
      " [1 4 9]\n",
      " [8 6 7]\n",
      " [3 2 2]\n",
      " [0 9 9]\n",
      " [4 8 6]]\n",
      "\n",
      "Array B:\n",
      "[[2 5]\n",
      " [6 7]]\n",
      "\n",
      "Rows of A that contain elements of each row of B:\n",
      "[]\n"
     ]
    }
   ],
   "source": [
    "# Create arrays A and B\n",
    "A = np.random.randint(0, 10, size=(8, 3))\n",
    "B = np.random.randint(0, 10, size=(2, 2))\n",
    "\n",
    "print(\"Array A:\")\n",
    "print(A)\n",
    "\n",
    "print(\"\\nArray B:\")\n",
    "print(B)\n",
    "\n",
    "# Check if any element in each row of B is in the corresponding row of A\n",
    "contains_elements = np.all(np.isin(A, B), axis=1)\n",
    "\n",
    "# Get the rows of A that contain elements of each row of B\n",
    "result_rows_of_A = A[contains_elements]\n",
    "\n",
    "print(\"\\nRows of A that contain elements of each row of B:\")\n",
    "print(result_rows_of_A)"
   ]
  },
  {
   "cell_type": "markdown",
   "metadata": {},
   "source": [
    "# Question 94\n",
    "### Considering a 10x3 matrix, extract rows with unequal values (e.g. [2,2,3]) (★★★)\n"
   ]
  },
  {
   "cell_type": "code",
   "execution_count": 111,
   "metadata": {},
   "outputs": [
    {
     "name": "stdout",
     "output_type": "stream",
     "text": [
      "Original Matrix:\n",
      "[[3 1 2]\n",
      " [3 1 3]\n",
      " [2 2 0]\n",
      " [2 0 1]\n",
      " [2 1 1]\n",
      " [3 2 2]\n",
      " [0 2 0]\n",
      " [3 3 2]\n",
      " [2 0 0]\n",
      " [0 2 0]]\n",
      "\n",
      "Rows with Unequal Values:\n",
      "[[3 1 2]\n",
      " [3 1 3]\n",
      " [2 2 0]\n",
      " [2 0 1]\n",
      " [2 1 1]\n",
      " [3 2 2]\n",
      " [0 2 0]\n",
      " [3 3 2]\n",
      " [2 0 0]\n",
      " [0 2 0]]\n"
     ]
    }
   ],
   "source": [
    "# Create a 10x3 matrix\n",
    "matrix = np.random.randint(0, 4, size=(10, 3))\n",
    "\n",
    "print(\"Original Matrix:\")\n",
    "print(matrix)\n",
    "\n",
    "# Check for rows with unequal values\n",
    "unequal_rows = np.any(np.diff(matrix, axis=1) != 0, axis=1)\n",
    "\n",
    "# Extract rows with unequal values\n",
    "result_matrix = matrix[unequal_rows]\n",
    "\n",
    "print(\"\\nRows with Unequal Values:\")\n",
    "print(result_matrix)"
   ]
  },
  {
   "cell_type": "markdown",
   "metadata": {},
   "source": [
    "# Question 95\n",
    "### Convert a vector of ints into a matrix binary representation (★★★)"
   ]
  },
  {
   "cell_type": "code",
   "execution_count": 112,
   "metadata": {},
   "outputs": [
    {
     "name": "stdout",
     "output_type": "stream",
     "text": [
      "Vector of Integers:\n",
      "[ 5 10  3  7]\n",
      "\n",
      "Binary Representation Matrix:\n",
      "[[0 0 0 0 0 1 0 1]\n",
      " [0 0 0 0 1 0 1 0]\n",
      " [0 0 0 0 0 0 1 1]\n",
      " [0 0 0 0 0 1 1 1]]\n"
     ]
    }
   ],
   "source": [
    "# Create a vector of integers\n",
    "vector_of_ints = np.array([5, 10, 3, 7], dtype=np.uint8)\n",
    "\n",
    "# Convert each integer to its binary representation\n",
    "binary_representation = np.unpackbits(vector_of_ints[:, np.newaxis], axis=1)\n",
    "\n",
    "print(\"Vector of Integers:\")\n",
    "print(vector_of_ints)\n",
    "\n",
    "print(\"\\nBinary Representation Matrix:\")\n",
    "print(binary_representation)"
   ]
  },
  {
   "cell_type": "markdown",
   "metadata": {},
   "source": [
    "# Question 96\n",
    "### Given a two dimensional array, how to extract unique rows? (★★★)"
   ]
  },
  {
   "cell_type": "code",
   "execution_count": 113,
   "metadata": {},
   "outputs": [
    {
     "name": "stdout",
     "output_type": "stream",
     "text": [
      "Original 2D Array:\n",
      "[[1 2 3]\n",
      " [4 5 6]\n",
      " [1 2 3]\n",
      " [7 8 9]]\n",
      "\n",
      "Unique Rows:\n",
      "[[1 2 3]\n",
      " [4 5 6]\n",
      " [7 8 9]]\n"
     ]
    }
   ],
   "source": [
    "# Create a two-dimensional array\n",
    "array_2d = np.array([[1, 2, 3],\n",
    "                     [4, 5, 6],\n",
    "                     [1, 2, 3],\n",
    "                     [7, 8, 9]])\n",
    "\n",
    "print(\"Original 2D Array:\")\n",
    "print(array_2d)\n",
    "\n",
    "# Use numpy.unique to extract unique rows\n",
    "unique_rows, unique_indices = np.unique(array_2d, axis=0, return_index=True)\n",
    "\n",
    "print(\"\\nUnique Rows:\")\n",
    "print(unique_rows)"
   ]
  },
  {
   "cell_type": "markdown",
   "metadata": {},
   "source": [
    "# Question 97\n",
    "### Considering 2 vectors A & B, write the einsum equivalent of inner, outer, sum, and mul function (★★★)\n"
   ]
  },
  {
   "cell_type": "code",
   "execution_count": 114,
   "metadata": {},
   "outputs": [
    {
     "data": {
      "text/plain": [
       "32"
      ]
     },
     "execution_count": 114,
     "metadata": {},
     "output_type": "execute_result"
    }
   ],
   "source": [
    "A = np.array([1, 2, 3])\n",
    "B = np.array([4, 5, 6])\n",
    "\n",
    "inner_product = np.einsum('i,i->', A, B)\n",
    "inner_product"
   ]
  },
  {
   "cell_type": "code",
   "execution_count": 115,
   "metadata": {},
   "outputs": [
    {
     "data": {
      "text/plain": [
       "array([[ 4,  5,  6],\n",
       "       [ 8, 10, 12],\n",
       "       [12, 15, 18]])"
      ]
     },
     "execution_count": 115,
     "metadata": {},
     "output_type": "execute_result"
    }
   ],
   "source": [
    "outer_product = np.einsum('i,j->ij', A, B)\n",
    "outer_product"
   ]
  },
  {
   "cell_type": "code",
   "execution_count": 116,
   "metadata": {},
   "outputs": [
    {
     "data": {
      "text/plain": [
       "6"
      ]
     },
     "execution_count": 116,
     "metadata": {},
     "output_type": "execute_result"
    }
   ],
   "source": [
    "sum_result = np.einsum('i->', A)\n",
    "sum_result "
   ]
  },
  {
   "cell_type": "code",
   "execution_count": 117,
   "metadata": {},
   "outputs": [
    {
     "data": {
      "text/plain": [
       "array([ 4, 10, 18])"
      ]
     },
     "execution_count": 117,
     "metadata": {},
     "output_type": "execute_result"
    }
   ],
   "source": [
    "elementwise_mul = np.einsum('i,i->i', A, B)\n",
    "elementwise_mul "
   ]
  },
  {
   "cell_type": "markdown",
   "metadata": {},
   "source": [
    "# Question 98\n",
    "###  Considering a path described by two vectors (X,Y), how to sample it using equidistant samples (★★★)?\n"
   ]
  },
  {
   "cell_type": "code",
   "execution_count": 118,
   "metadata": {},
   "outputs": [
    {
     "name": "stdout",
     "output_type": "stream",
     "text": [
      "Sampled points:\n",
      "[[0.         0.        ]\n",
      " [0.47387901 0.94775801]\n",
      " [1.13147488 2.13147488]\n",
      " [2.25537763 3.25537763]\n",
      " [3.76408335 3.61795832]\n",
      " [5.44826944 2.10346112]\n",
      " [6.         1.        ]]\n"
     ]
    }
   ],
   "source": [
    "def sample_path(X, Y, num_samples):\n",
    "    # Calculate the total length of the path\n",
    "    distances = np.sqrt(np.diff(X)**2 + np.diff(Y)**2)\n",
    "    total_length = np.sum(distances)\n",
    "    \n",
    "    # Calculate the step size for equidistant sampling\n",
    "    step_size = total_length / (num_samples - 1)\n",
    "    \n",
    "    sampled_points = []\n",
    "    sampled_points.append((X[0], Y[0]))  # Add the starting point\n",
    "    \n",
    "    current_length = 0\n",
    "    for i in range(len(X) - 1):\n",
    "        # Calculate the distance between consecutive points\n",
    "        distance = np.sqrt((X[i + 1] - X[i])**2 + (Y[i + 1] - Y[i])**2)\n",
    "        \n",
    "        # If the next point contributes to surpassing the current length by the step size\n",
    "        while current_length + distance >= step_size:\n",
    "            # Calculate the position of the interpolated point\n",
    "            fraction = (step_size - current_length) / distance\n",
    "            interpolated_x = X[i] + (X[i + 1] - X[i]) * fraction\n",
    "            interpolated_y = Y[i] + (Y[i + 1] - Y[i]) * fraction\n",
    "            sampled_points.append((interpolated_x, interpolated_y))\n",
    "            \n",
    "            # Update the current length and step size\n",
    "            current_length -= step_size\n",
    "            step_size = total_length / (num_samples - len(sampled_points) - 1)\n",
    "        \n",
    "        current_length += distance\n",
    "    \n",
    "    sampled_points.append((X[-1], Y[-1]))  # Add the ending point\n",
    "    \n",
    "    return np.array(sampled_points)\n",
    "\n",
    "# Example usage:\n",
    "X = np.array([0, 1, 3, 5, 6])\n",
    "Y = np.array([0, 2, 4, 3, 1])\n",
    "num_samples = 10\n",
    "\n",
    "sampled_points = sample_path(X, Y, num_samples)\n",
    "print(\"Sampled points:\")\n",
    "print(sampled_points)"
   ]
  },
  {
   "cell_type": "markdown",
   "metadata": {},
   "source": [
    "# Question 99\n",
    "### Given an integer n and a 2D array X, select from X the rows which can be interpreted as draws from a multinomial distribution with n degrees, i.e., the rows which only contain integers and which sum to n. (★★★)\n"
   ]
  },
  {
   "cell_type": "code",
   "execution_count": 120,
   "metadata": {},
   "outputs": [
    {
     "name": "stdout",
     "output_type": "stream",
     "text": [
      "Selected Rows:\n",
      "[[5 2 3]]\n"
     ]
    }
   ],
   "source": [
    "def select_multinomial_rows(X, n):\n",
    "    # Check if each element in the array is an integer\n",
    "    is_integer = np.all(X.astype(int) == X, axis=1)\n",
    "\n",
    "    # Check if the sum of each row is equal to 'n'\n",
    "    sum_equals_n = np.sum(X, axis=1) == n\n",
    "\n",
    "    # Combine the conditions to select rows\n",
    "    selected_rows = X[is_integer & sum_equals_n]\n",
    "\n",
    "    return selected_rows\n",
    "\n",
    "n = 10\n",
    "X = np.array([[2, 4, 7], [1, 5, 6], [4, 1, 1], [5, 6, 6], [5, 2, 3]])\n",
    "\n",
    "result = select_multinomial_rows(X, n)\n",
    "print(\"Selected Rows:\")\n",
    "print(result)"
   ]
  },
  {
   "cell_type": "markdown",
   "metadata": {},
   "source": [
    "# Question 100\n",
    "### Compute bootstrapped 95% confidence intervals for the mean of a 1D array X (i.e., resample the elements of an array with replacement N times, compute the mean of each sample, and then compute percentiles over the means). (★★★)"
   ]
  },
  {
   "cell_type": "code",
   "execution_count": 121,
   "metadata": {},
   "outputs": [
    {
     "name": "stdout",
     "output_type": "stream",
     "text": [
      "Bootstrapped 95% confidence interval for the mean: (9.763972298398812, 10.431280063096018)\n"
     ]
    }
   ],
   "source": [
    "def bootstrap_confidence_interval(X, num_samples, alpha=0.05):\n",
    "    means = []\n",
    "    for _ in range(num_samples):\n",
    "        # Resample with replacement\n",
    "        resampled_X = np.random.choice(X, size=len(X), replace=True)\n",
    "        # Compute mean of the resampled data\n",
    "        resampled_mean = np.mean(resampled_X)\n",
    "        means.append(resampled_mean)\n",
    "    \n",
    "    # Calculate confidence intervals using percentiles\n",
    "    lower_percentile = 100 * (alpha / 2)\n",
    "    upper_percentile = 100 * (1 - alpha / 2)\n",
    "    lower_bound = np.percentile(means, lower_percentile)\n",
    "    upper_bound = np.percentile(means, upper_percentile)\n",
    "    \n",
    "    return lower_bound, upper_bound\n",
    "\n",
    "X = np.random.normal(loc=10, scale=2, size=100)  # Generate a sample dataset\n",
    "num_samples = 1000  # Number of bootstrap samples\n",
    "alpha = 0.05  # Significance level (95% confidence interval)\n",
    "\n",
    "lower_bound, upper_bound = bootstrap_confidence_interval(X, num_samples, alpha)\n",
    "print(f\"Bootstrapped 95% confidence interval for the mean: ({lower_bound}, {upper_bound})\")"
   ]
  }
 ],
 "metadata": {
  "kernelspec": {
   "display_name": "Python 3",
   "language": "python",
   "name": "python3"
  },
  "language_info": {
   "codemirror_mode": {
    "name": "ipython",
    "version": 3
   },
   "file_extension": ".py",
   "mimetype": "text/x-python",
   "name": "python",
   "nbconvert_exporter": "python",
   "pygments_lexer": "ipython3",
   "version": "3.11.5"
  }
 },
 "nbformat": 4,
 "nbformat_minor": 2
}
